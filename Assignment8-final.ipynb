{
 "cells": [
  {
   "cell_type": "markdown",
   "metadata": {},
   "source": [
    "## Assignment 8: Decision Trees on Amazon reviews data set [M]"
   ]
  },
  {
   "cell_type": "markdown",
   "metadata": {},
   "source": [
    "Given Dataset consists of reviews of fine foods from amazon. Reviews describe (1)product and user information, (2)ratings, and (3) a plain text review.Here, decision Tree  algorithm is applied on amazon reviews datasets to predict whether a review is positive or negative.\n",
    "\n",
    "Procedure to execute the above task is as follows:\n",
    "\n",
    "* **Step1: Data Pre-processing is applied on given amazon reviews data-set.And Take sample of data from dataset because of computational limitations**\n",
    "\n",
    "\n",
    "* **Step2: Time based splitting on train and test datasets.**\n",
    "\n",
    "\n",
    "* **Step3: Apply  Feature generation techniques(avg w2v,tfidfw2v)** \n",
    "  \n",
    "  \n",
    "* **Step4: Apply Decision Tree algorithm using each technique.**\n",
    "\n",
    "\n",
    "* **Step5: To find C(1/lambda) and gamma(=1/sigma).**\n",
    "\n",
    "* **Step6: Decision tree Feature Importance using BOW and TF-IDF**\n",
    "\n",
    "* **Step7: Images of Decision tree in png format with verious vectorizations.**\n",
    "\n",
    "\n",
    "         \n",
    "\n",
    "## Objective:\n",
    "\n",
    "* To classify given reviews (positive (Rating of 4 or 5) & negative (rating of 1 or 2)) using Decision Trees  algorithm.\n",
    "\n",
    "\n",
    "\n",
    "\n",
    "\n"
   ]
  },
  {
   "cell_type": "code",
   "execution_count": 1,
   "metadata": {},
   "outputs": [
    {
     "name": "stderr",
     "output_type": "stream",
     "text": [
      "/usr/local/lib/python3.6/site-packages/sklearn/cross_validation.py:41: DeprecationWarning: This module was deprecated in version 0.18 in favor of the model_selection module into which all the refactored classes and functions are moved. Also note that the interface of the new CV iterators are different from that of this module. This module will be removed in 0.20.\n",
      "  \"This module will be removed in 0.20.\", DeprecationWarning)\n"
     ]
    }
   ],
   "source": [
    "%matplotlib inline\n",
    "import warnings\n",
    "warnings.filterwarnings(\"ignore\")\n",
    "import re\n",
    "import math\n",
    "\n",
    "import pandas as pd\n",
    "import numpy as np\n",
    "import pickle\n",
    "import graphviz \n",
    "# modules for text processing\n",
    "import nltk\n",
    "import string\n",
    "from nltk.corpus import stopwords\n",
    "from nltk.stem import PorterStemmer\n",
    "from nltk.stem.wordnet import WordNetLemmatizer\n",
    "import matplotlib.pyplot as plt\n",
    "import seaborn as sns\n",
    "from sklearn.model_selection import TimeSeriesSplit\n",
    "from sklearn.model_selection import train_test_split\n",
    "from sklearn.model_selection import cross_val_score\n",
    "from sklearn import preprocessing\n",
    "from sklearn.feature_extraction.text import TfidfTransformer\n",
    "from sklearn.feature_extraction.text import TfidfVectorizer\n",
    "\n",
    "from sklearn.feature_extraction.text import CountVectorizer\n",
    "from sklearn.metrics import confusion_matrix\n",
    "from sklearn import metrics\n",
    "from sklearn.metrics import f1_score\n",
    "from sklearn.metrics import recall_score\n",
    "from sklearn.metrics import precision_score\n",
    "from tqdm import tqdm\n",
    "import os\n",
    "#import scikitplot.metrics as skplt\n",
    "from sklearn.metrics import classification_report,confusion_matrix,accuracy_score\n",
    "\n",
    "from sklearn.metrics import roc_curve, auc\n",
    "from nltk.stem.porter import PorterStemmer\n",
    "\n",
    "from sklearn.decomposition import TruncatedSVD\n",
    "import pytablewriter\n",
    "\n",
    "# train-split data,accuracy-score,cross-validation modules\n",
    "\n",
    "from sklearn.tree import DecisionTreeClassifier\n",
    "from sklearn import tree\n",
    "from sklearn.metrics import accuracy_score\n",
    "\n",
    "from collections import Counter\n",
    "from sklearn.metrics import accuracy_score\n",
    "from sklearn import cross_validation\n",
    "from sklearn.preprocessing import StandardScaler\n",
    "\n",
    "from sklearn.model_selection  import GridSearchCV\n",
    "from sklearn.svm import SVC\n",
    "from scipy.stats import uniform\n",
    "from sklearn.model_selection import RandomizedSearchCV\n"
   ]
  },
  {
   "cell_type": "code",
   "execution_count": 2,
   "metadata": {},
   "outputs": [],
   "source": [
    "try:\n",
    "    from StringIO import StringIO\n",
    "except ImportError:\n",
    "    from io import StringIO"
   ]
  },
  {
   "cell_type": "code",
   "execution_count": 3,
   "metadata": {},
   "outputs": [],
   "source": [
    "import zipfile\n",
    "archive = zipfile.ZipFile('/floyd/input/pri/Reviews.zip', 'r')\n",
    "csvfile = archive.open('Reviews.csv')"
   ]
  },
  {
   "cell_type": "code",
   "execution_count": 4,
   "metadata": {},
   "outputs": [
    {
     "name": "stdout",
     "output_type": "stream",
     "text": [
      "   Id   ProductId          UserId                      ProfileName  \\\n",
      "0   1  B001E4KFG0  A3SGXH7AUHU8GW                       delmartian   \n",
      "1   2  B00813GRG4  A1D87F6ZCVE5NK                           dll pa   \n",
      "2   3  B000LQOCH0   ABXLMWJIXXAIN  Natalia Corres \"Natalia Corres\"   \n",
      "3   4  B000UA0QIQ  A395BORC6FGVXV                             Karl   \n",
      "4   5  B006K2ZZ7K  A1UQRSCLF8GW1T    Michael D. Bigham \"M. Wassir\"   \n",
      "\n",
      "   HelpfulnessNumerator  HelpfulnessDenominator  Score        Time  \\\n",
      "0                     1                       1      5  1303862400   \n",
      "1                     0                       0      1  1346976000   \n",
      "2                     1                       1      4  1219017600   \n",
      "3                     3                       3      2  1307923200   \n",
      "4                     0                       0      5  1350777600   \n",
      "\n",
      "                 Summary                                               Text  \n",
      "0  Good Quality Dog Food  I have bought several of the Vitality canned d...  \n",
      "1      Not as Advertised  Product arrived labeled as Jumbo Salted Peanut...  \n",
      "2  \"Delight\" says it all  This is a confection that has been around a fe...  \n",
      "3         Cough Medicine  If you are looking for the secret ingredient i...  \n",
      "4            Great taffy  Great taffy at a great price.  There was a wid...  \n"
     ]
    }
   ],
   "source": [
    "# Reading CSV file and printing first five rows \n",
    "amz = pd.read_csv(csvfile ) # reviews.csv is  dataset file\n",
    "print(amz.head())"
   ]
  },
  {
   "cell_type": "code",
   "execution_count": 5,
   "metadata": {},
   "outputs": [
    {
     "name": "stdout",
     "output_type": "stream",
     "text": [
      "(568454, 10)\n",
      "Index(['Id', 'ProductId', 'UserId', 'ProfileName', 'HelpfulnessNumerator',\n",
      "       'HelpfulnessDenominator', 'Score', 'Time', 'Summary', 'Text'],\n",
      "      dtype='object')\n"
     ]
    }
   ],
   "source": [
    "# dimensions of dataset and columns name\n",
    "\n",
    "print(amz.shape) \n",
    "#print(amz1.shape)\n",
    "print(amz.columns)"
   ]
  },
  {
   "cell_type": "markdown",
   "metadata": {},
   "source": [
    "The amazon reviews datafile contains 568454 rows of entry and 10 columns.For given objective, processing of data is necessary.\"Score\" and \"text\" columns is processed for required result."
   ]
  },
  {
   "cell_type": "markdown",
   "metadata": {},
   "source": [
    "##### Given reviews with Score>3 a positive rating, and reviews with a score<3 a negative rating. If score is equal to 3,it is considered as neutral score."
   ]
  },
  {
   "cell_type": "code",
   "execution_count": 6,
   "metadata": {},
   "outputs": [],
   "source": [
    "# Processing\n",
    "#Give reviews with Score>3 a positive rating, and reviews with a score<3 a negative rating.\n",
    "\n",
    "def score_part(x):\n",
    "    if x < 3:\n",
    "        return 'negative'\n",
    "    return 'positive'\n",
    "\n",
    "actualScore = amz['Score']\n",
    "#print(actualScore)\n",
    "New_score = actualScore.map(score_part)\n",
    "#print(New_score)\n",
    "amz['Score']=New_score\n",
    "\n",
    "# If score is equal to 3,it is considered as neutral score.\n",
    "\n",
    "    \n",
    "\n",
    "\n",
    "\n",
    "\n"
   ]
  },
  {
   "cell_type": "code",
   "execution_count": 7,
   "metadata": {},
   "outputs": [
    {
     "name": "stdout",
     "output_type": "stream",
     "text": [
      "(568454, 10)\n"
     ]
    },
    {
     "data": {
      "text/html": [
       "<div>\n",
       "<style scoped>\n",
       "    .dataframe tbody tr th:only-of-type {\n",
       "        vertical-align: middle;\n",
       "    }\n",
       "\n",
       "    .dataframe tbody tr th {\n",
       "        vertical-align: top;\n",
       "    }\n",
       "\n",
       "    .dataframe thead th {\n",
       "        text-align: right;\n",
       "    }\n",
       "</style>\n",
       "<table border=\"1\" class=\"dataframe\">\n",
       "  <thead>\n",
       "    <tr style=\"text-align: right;\">\n",
       "      <th></th>\n",
       "      <th>Id</th>\n",
       "      <th>ProductId</th>\n",
       "      <th>UserId</th>\n",
       "      <th>ProfileName</th>\n",
       "      <th>HelpfulnessNumerator</th>\n",
       "      <th>HelpfulnessDenominator</th>\n",
       "      <th>Score</th>\n",
       "      <th>Time</th>\n",
       "      <th>Summary</th>\n",
       "      <th>Text</th>\n",
       "    </tr>\n",
       "  </thead>\n",
       "  <tbody>\n",
       "    <tr>\n",
       "      <th>0</th>\n",
       "      <td>1</td>\n",
       "      <td>B001E4KFG0</td>\n",
       "      <td>A3SGXH7AUHU8GW</td>\n",
       "      <td>delmartian</td>\n",
       "      <td>1</td>\n",
       "      <td>1</td>\n",
       "      <td>positive</td>\n",
       "      <td>1303862400</td>\n",
       "      <td>Good Quality Dog Food</td>\n",
       "      <td>I have bought several of the Vitality canned d...</td>\n",
       "    </tr>\n",
       "    <tr>\n",
       "      <th>1</th>\n",
       "      <td>2</td>\n",
       "      <td>B00813GRG4</td>\n",
       "      <td>A1D87F6ZCVE5NK</td>\n",
       "      <td>dll pa</td>\n",
       "      <td>0</td>\n",
       "      <td>0</td>\n",
       "      <td>negative</td>\n",
       "      <td>1346976000</td>\n",
       "      <td>Not as Advertised</td>\n",
       "      <td>Product arrived labeled as Jumbo Salted Peanut...</td>\n",
       "    </tr>\n",
       "    <tr>\n",
       "      <th>2</th>\n",
       "      <td>3</td>\n",
       "      <td>B000LQOCH0</td>\n",
       "      <td>ABXLMWJIXXAIN</td>\n",
       "      <td>Natalia Corres \"Natalia Corres\"</td>\n",
       "      <td>1</td>\n",
       "      <td>1</td>\n",
       "      <td>positive</td>\n",
       "      <td>1219017600</td>\n",
       "      <td>\"Delight\" says it all</td>\n",
       "      <td>This is a confection that has been around a fe...</td>\n",
       "    </tr>\n",
       "    <tr>\n",
       "      <th>3</th>\n",
       "      <td>4</td>\n",
       "      <td>B000UA0QIQ</td>\n",
       "      <td>A395BORC6FGVXV</td>\n",
       "      <td>Karl</td>\n",
       "      <td>3</td>\n",
       "      <td>3</td>\n",
       "      <td>negative</td>\n",
       "      <td>1307923200</td>\n",
       "      <td>Cough Medicine</td>\n",
       "      <td>If you are looking for the secret ingredient i...</td>\n",
       "    </tr>\n",
       "    <tr>\n",
       "      <th>4</th>\n",
       "      <td>5</td>\n",
       "      <td>B006K2ZZ7K</td>\n",
       "      <td>A1UQRSCLF8GW1T</td>\n",
       "      <td>Michael D. Bigham \"M. Wassir\"</td>\n",
       "      <td>0</td>\n",
       "      <td>0</td>\n",
       "      <td>positive</td>\n",
       "      <td>1350777600</td>\n",
       "      <td>Great taffy</td>\n",
       "      <td>Great taffy at a great price.  There was a wid...</td>\n",
       "    </tr>\n",
       "  </tbody>\n",
       "</table>\n",
       "</div>"
      ],
      "text/plain": [
       "   Id   ProductId          UserId                      ProfileName  \\\n",
       "0   1  B001E4KFG0  A3SGXH7AUHU8GW                       delmartian   \n",
       "1   2  B00813GRG4  A1D87F6ZCVE5NK                           dll pa   \n",
       "2   3  B000LQOCH0   ABXLMWJIXXAIN  Natalia Corres \"Natalia Corres\"   \n",
       "3   4  B000UA0QIQ  A395BORC6FGVXV                             Karl   \n",
       "4   5  B006K2ZZ7K  A1UQRSCLF8GW1T    Michael D. Bigham \"M. Wassir\"   \n",
       "\n",
       "   HelpfulnessNumerator  HelpfulnessDenominator     Score        Time  \\\n",
       "0                     1                       1  positive  1303862400   \n",
       "1                     0                       0  negative  1346976000   \n",
       "2                     1                       1  positive  1219017600   \n",
       "3                     3                       3  negative  1307923200   \n",
       "4                     0                       0  positive  1350777600   \n",
       "\n",
       "                 Summary                                               Text  \n",
       "0  Good Quality Dog Food  I have bought several of the Vitality canned d...  \n",
       "1      Not as Advertised  Product arrived labeled as Jumbo Salted Peanut...  \n",
       "2  \"Delight\" says it all  This is a confection that has been around a fe...  \n",
       "3         Cough Medicine  If you are looking for the secret ingredient i...  \n",
       "4            Great taffy  Great taffy at a great price.  There was a wid...  "
      ]
     },
     "execution_count": 7,
     "metadata": {},
     "output_type": "execute_result"
    }
   ],
   "source": [
    "print(amz.shape)\n",
    "amz.head(5)\n"
   ]
  },
  {
   "cell_type": "markdown",
   "metadata": {},
   "source": [
    "#### Data Pre-processing on raw data:\n",
    "\n",
    "Every datasets contains some unwanted data.Raw data is preprocessed by removing duplication.\n"
   ]
  },
  {
   "cell_type": "code",
   "execution_count": 8,
   "metadata": {},
   "outputs": [
    {
     "name": "stdout",
     "output_type": "stream",
     "text": [
      "            Id   ProductId          UserId  \\\n",
      "171222  171223  7310172001   AJD41FBJD9010   \n",
      "171153  171154  7310172001   AJD41FBJD9010   \n",
      "171151  171152  7310172001   AJD41FBJD9010   \n",
      "217443  217444  7310172101  A22FICU3LCG2J1   \n",
      "217444  217445  7310172101  A1LQV0PSM04DWI   \n",
      "\n",
      "                                         ProfileName  HelpfulnessNumerator  \\\n",
      "171222  N. Ferguson \"Two, Daisy, Hannah, and Kitten\"                     1   \n",
      "171153  N. Ferguson \"Two, Daisy, Hannah, and Kitten\"                     0   \n",
      "171151  N. Ferguson \"Two, Daisy, Hannah, and Kitten\"                     0   \n",
      "217443                                      C. Knapp                     1   \n",
      "217444                                 B. Feuerstein                     1   \n",
      "\n",
      "        HelpfulnessDenominator     Score        Time  \\\n",
      "171222                       1  positive  1233360000   \n",
      "171153                       0  positive  1233360000   \n",
      "171151                       0  positive  1233360000   \n",
      "217443                       1  positive  1275523200   \n",
      "217444                       1  positive  1274313600   \n",
      "\n",
      "                                                  Summary  \\\n",
      "171222  best dog treat-- great for training---  all do...   \n",
      "171153  best dog treat-- great for training---  all do...   \n",
      "171151  dogs LOVE it--  best treat for rewards and tra...   \n",
      "217443                                Can't resist this !   \n",
      "217444                   Freeze dried liver as dog treats   \n",
      "\n",
      "                                                     Text  \n",
      "171222  Freeze dried liver has a hypnotic effect on do...  \n",
      "171153  Freeze dried liver has a hypnotic effect on do...  \n",
      "171151  Freeze dried liver has a hypnotic effect on do...  \n",
      "217443  My dog can't resist these treats - I can get h...  \n",
      "217444  My little pupster loves these things. She is n...  \n",
      "(393931, 10)\n"
     ]
    },
    {
     "data": {
      "text/plain": [
       "positive    336824\n",
       "negative     57107\n",
       "Name: Score, dtype: int64"
      ]
     },
     "execution_count": 8,
     "metadata": {},
     "output_type": "execute_result"
    }
   ],
   "source": [
    "#Processing of ProductId\n",
    "#Sorting data according to ProductId in ascending order\n",
    "sorted_data=amz.sort_values('ProductId', axis=0, ascending=True, inplace=False, kind='quicksort', na_position='last')\n",
    "#sorted_data.head() # printing sorted data\n",
    "# To check the duplications in raw data\n",
    "dupli=sorted_data[sorted_data.duplicated([\"UserId\",\"ProfileName\",\"Time\",\"Text\"])]\n",
    "print(dupli.head(5))\n",
    "# Remove Deduplication of entries\n",
    "final=sorted_data.drop_duplicates(subset={\"UserId\",\"ProfileName\",\"Time\",\"Text\"}, keep='first', inplace=False)\n",
    "final.shape\n",
    "#Checking to see how much % of data still remains\n",
    "(final['Id'].size*1.0)/(amz['Id'].size*1.0)*100\n",
    "final=final[final.HelpfulnessNumerator<=final.HelpfulnessDenominator]\n",
    "#Before starting the next phase of preprocessing lets see the number of entries left\n",
    "print(final.shape)\n",
    "\n",
    "#How many positive and negative reviews are present in our dataset?\n",
    "final['Score'].value_counts()"
   ]
  },
  {
   "cell_type": "code",
   "execution_count": 9,
   "metadata": {},
   "outputs": [
    {
     "name": "stdout",
     "output_type": "stream",
     "text": [
      "List of total counts Postive score and Negative score ==> [336824, 57107]\n"
     ]
    },
    {
     "data": {
      "text/plain": [
       "Text(0.5,1,'Total counts of Postive score and Negative score ')"
      ]
     },
     "execution_count": 9,
     "metadata": {},
     "output_type": "execute_result"
    },
    {
     "data": {
      "image/png": "[encoded data removed]",
      "text/plain": [
       "<Figure size 432x288 with 1 Axes>"
      ]
     },
     "metadata": {},
     "output_type": "display_data"
    }
   ],
   "source": [
    "a=final['Score'].value_counts().tolist()\n",
    "print('List of total counts Postive score and Negative score ==>',a)\n",
    "final['Score'].value_counts().plot(kind='bar')\n",
    "plt.title('Total counts of Postive score and Negative score ')\n"
   ]
  },
  {
   "cell_type": "markdown",
   "metadata": {},
   "source": [
    "#### observations\n",
    "* The positive reviews is greater than negative reviews.It makes data imbalanced.\n",
    "* From the bar plot ,it is seen that sampled datasets of review is imbalnced.\n"
   ]
  },
  {
   "cell_type": "markdown",
   "metadata": {},
   "source": [
    "# Text Preprocessing:"
   ]
  },
  {
   "cell_type": "code",
   "execution_count": 10,
   "metadata": {},
   "outputs": [
    {
     "name": "stdout",
     "output_type": "stream",
     "text": [
      "[nltk_data] Downloading package stopwords to /root/nltk_data...\n",
      "[nltk_data]   Unzipping corpora/stopwords.zip.\n"
     ]
    },
    {
     "data": {
      "text/plain": [
       "True"
      ]
     },
     "execution_count": 10,
     "metadata": {},
     "output_type": "execute_result"
    }
   ],
   "source": [
    "import nltk\n",
    "nltk.download('stopwords')"
   ]
  },
  {
   "cell_type": "code",
   "execution_count": 11,
   "metadata": {
    "scrolled": true
   },
   "outputs": [],
   "source": [
    " \n",
    "stop = set(stopwords.words('english')) #set of stopwords\n",
    "sno = nltk.stem.SnowballStemmer('english') #initialising the snowball stemmer\n",
    "\n",
    "def cleanhtml(sentence): #function to clean the word of any html-tags\n",
    "    cleanr = re.compile('<.*?>$< /><')\n",
    "    #cleanr = re.compile('<.*?>')\n",
    "    cleantext = re.sub(cleanr, ' ', sentence)\n",
    "    return cleantext\n",
    "def cleanpunc(sentence): #function to clean the word of any punctuation or special characters\n",
    "    cleaned = re.sub(r'[?|!|\\'|\"|#]',r'',sentence)\n",
    "    cleaned = re.sub(r'[.|,|)|(|\\|/]',r' ',cleaned)\n",
    "    return  cleaned\n"
   ]
  },
  {
   "cell_type": "markdown",
   "metadata": {},
   "source": [
    "cleaning html tags like\" <.*?>\" and punctuations like \" r'[?|!|\\'|\"|#]',r''\" from senetences"
   ]
  },
  {
   "cell_type": "code",
   "execution_count": 12,
   "metadata": {},
   "outputs": [],
   "source": [
    "#final = final.sample(frac=0.004,random_state=1)\n",
    "#print(final.shape)"
   ]
  },
  {
   "cell_type": "code",
   "execution_count": 13,
   "metadata": {},
   "outputs": [],
   "source": [
    "#Code for implementing step-by-step the checks mentioned in the pre-processing phase.\n",
    "\n",
    "'''Pre processing of text data:It is cleaning and flitering text'''\n",
    "i=0\n",
    "str1=' '\n",
    "global final_string\n",
    "final_string=[]\n",
    "all_positive_words=[] \n",
    "all_negative_words=[] \n",
    "s=''\n",
    "for sent in final['Text'].values:\n",
    "    filtered_sentence=[]\n",
    "    #print(sent);\n",
    "    sent=cleanhtml(sent) # remove HTMl tags\n",
    "    for w in sent.split():\n",
    "        for cleaned_words in cleanpunc(w).split():\n",
    "            if((cleaned_words.isalpha()) & (len(cleaned_words)>2)):    \n",
    "                if(cleaned_words.lower() not in stop):\n",
    "                    s=(sno.stem(cleaned_words.lower())).encode('utf8')\n",
    "                    filtered_sentence.append(s)\n",
    "                    if (final['Score'].values)[i] == 'positive': \n",
    "                        all_positive_words.append(s) #list of all words used to describe positive reviews\n",
    "                    if(final['Score'].values)[i] == 'negative':\n",
    "                        all_negative_words.append(s) #list of all words used to describe negative reviews reviews\n",
    "                else:\n",
    "                    continue\n",
    "            else:\n",
    "                continue \n",
    "    #print(filtered_sentence)\n",
    "    str1 = b\" \".join(filtered_sentence) #final string of cleaned words\n",
    "    #print(\"***********************************************************************\")\n",
    "\n",
    "    final_string.append(str1)\n",
    "    i+=1\n",
    "#print('all_positive_words =',len(all_positive_words))\n",
    "#print('all_negative_words =',len(all_negative_words))\n",
    "\n",
    "# Finding most frequently occuring Positive and Negative words \n",
    "\n",
    "freq_positive=nltk.FreqDist(all_positive_words)\n",
    "\n",
    "freq_negative=nltk.FreqDist(all_negative_words)\n",
    "\n",
    "#print(\"\\nMost Common Positive Words : \",freq_positive.most_common(20))\n",
    "\n",
    "#print(\"\\nMost Common Negative Words : \",freq_negative.most_common(20))\n",
    "\n",
    "\n"
   ]
  },
  {
   "cell_type": "markdown",
   "metadata": {},
   "source": [
    "##### Dumping and loading  Pre processing of text data in pickle file "
   ]
  },
  {
   "cell_type": "code",
   "execution_count": 14,
   "metadata": {},
   "outputs": [],
   "source": [
    "pickle_path_final_string='final_string.pkl'\n",
    "final_string_file=open(pickle_path_final_string,'wb')\n",
    "pickle.dump(final_string,final_string_file)\n",
    "final_string_file.close()"
   ]
  },
  {
   "cell_type": "code",
   "execution_count": 12,
   "metadata": {},
   "outputs": [],
   "source": [
    "pickle_path_final_string='final_string.pkl'\n",
    "final_string_unpkl=open(pickle_path_final_string,'rb')\n",
    "final_string=pickle.load(final_string_unpkl)"
   ]
  },
  {
   "cell_type": "code",
   "execution_count": 13,
   "metadata": {},
   "outputs": [
    {
     "name": "stdout",
     "output_type": "stream",
     "text": [
      "\n",
      "Pre_Process_Text_Data  X_Text= (393931,)\n",
      "\n",
      "Pre_Process_Score_Data Y_Score= (393931,)\n"
     ]
    }
   ],
   "source": [
    "\n",
    "final['CleanedText']=final_string\n",
    "#adding a column of CleanedText which displays the data after pre-processing of the review \n",
    "Pre_Process_Data = final[['CleanedText','Score','Time']] \n",
    "\n",
    "X_Text=Pre_Process_Data ['CleanedText']\n",
    "\n",
    "Y_Score =Pre_Process_Data ['Score'] # positive or negative score\n",
    "print('\\nPre_Process_Text_Data  X_Text=',X_Text.shape)\n",
    "print('\\nPre_Process_Score_Data Y_Score=',Y_Score.shape)\n"
   ]
  },
  {
   "cell_type": "code",
   "execution_count": 14,
   "metadata": {},
   "outputs": [
    {
     "name": "stdout",
     "output_type": "stream",
     "text": [
      "positive    101047\n",
      "Name: Score, dtype: int64\n",
      "negative    57107\n",
      "Name: Score, dtype: int64\n"
     ]
    }
   ],
   "source": [
    "# postive and negtive reviews from original datasets of amazon\n",
    "pos_final = Pre_Process_Data[Pre_Process_Data .Score == 'positive']# postive reviews\n",
    "pos_final = pos_final.sample(frac=0.3)\n",
    "print(pos_final.Score.value_counts())\n",
    "\n",
    "neg_final = Pre_Process_Data [Pre_Process_Data .Score == 'negative'] # negative reviews\n",
    "print(neg_final.Score.value_counts())"
   ]
  },
  {
   "cell_type": "code",
   "execution_count": 15,
   "metadata": {},
   "outputs": [
    {
     "name": "stdout",
     "output_type": "stream",
     "text": [
      "158154\n",
      "<class 'pandas.core.frame.DataFrame'>\n"
     ]
    }
   ],
   "source": [
    "final_pos_neg = pd.concat([pos_final,neg_final],axis=0)\n",
    "print(len(final_pos_neg))\n",
    "print(type(final_pos_neg))\n",
    "#print('final_pos_neg=',final_pos_neg['Score'])"
   ]
  },
  {
   "cell_type": "code",
   "execution_count": 16,
   "metadata": {},
   "outputs": [
    {
     "name": "stdout",
     "output_type": "stream",
     "text": [
      "Index(['CleanedText', 'Score', 'Time'], dtype='object')\n"
     ]
    }
   ],
   "source": [
    "print(final_pos_neg.columns)"
   ]
  },
  {
   "cell_type": "markdown",
   "metadata": {},
   "source": [
    "### Splitting Training and Testing dataset"
   ]
  },
  {
   "cell_type": "code",
   "execution_count": 17,
   "metadata": {},
   "outputs": [
    {
     "name": "stdout",
     "output_type": "stream",
     "text": [
      "(40000, 1)\n",
      "(40000, 1)\n",
      "X_train_data  (28000, 1)\n",
      "X_test_data  (12000, 1)\n",
      "Y_train_data  (28000, 1)\n",
      "Y_test_data  (12000, 1)\n"
     ]
    }
   ],
   "source": [
    "# splitting training and testing dataset (Time based splitting)\n",
    "\n",
    "X1 = final_pos_neg[['CleanedText','Time']].sort_values('Time',axis=0).drop('Time',axis=1)\n",
    "#40k data sample\n",
    "X=X1[:40000]\n",
    "\n",
    "print(X.shape)\n",
    "Y1 = final_pos_neg[['Score','Time']].sort_values('Time',axis=0).drop('Time',axis=1)\n",
    "#40k data sample\n",
    "Y=Y1[:40000]\n",
    "print(Y.shape)\n",
    "## 70 % of data\n",
    "\n",
    "X_train_data ,X_test_data,Y_train,Y_test  = train_test_split(X,\n",
    "                                                      Y.values,\n",
    "                                                                       \n",
    "                                                    test_size=0.3,shuffle=False)\n",
    "\n",
    "\n",
    "\n",
    "print('X_train_data ',X_train_data.shape)\n",
    "\n",
    "print('X_test_data ',X_test_data.shape )\n",
    "\n",
    "print('Y_train_data ',Y_train .shape)\n",
    "\n",
    "print('Y_test_data ',Y_test .shape)\n",
    "\n"
   ]
  },
  {
   "cell_type": "code",
   "execution_count": 18,
   "metadata": {},
   "outputs": [
    {
     "name": "stdout",
     "output_type": "stream",
     "text": [
      "y_train_new  (28000,)\n",
      "y_test_new  (12000,)\n"
     ]
    }
   ],
   "source": [
    "\n",
    "Y_new = Y['Score'].map(lambda x: 1 if x == 'positive' else 0).values.ravel()\n",
    "# Y train and Test for sparse datasets\n",
    "\n",
    "y_train_new,y_test_new = train_test_split(Y_new,test_size=0.3,shuffle=False)\n",
    "print('y_train_new ',y_train_new.shape)\n",
    "\n",
    "print('y_test_new ',y_test_new .shape)\n"
   ]
  },
  {
   "cell_type": "markdown",
   "metadata": {},
   "source": [
    "#  Optimal Depth of Tree for Decision Tree"
   ]
  },
  {
   "cell_type": "code",
   "execution_count": 19,
   "metadata": {},
   "outputs": [],
   "source": [
    " # Time seris splitting Cross-Validation\n",
    "tscv = TimeSeriesSplit(n_splits=3)"
   ]
  },
  {
   "cell_type": "code",
   "execution_count": 20,
   "metadata": {},
   "outputs": [],
   "source": [
    "# Optimal_Depth_Tree is function to calculate the optimal depth value Decision Tree\n",
    "def Optimal_Depth_Tree(X_train,y_train):\n",
    "    depthsize=list(range(3,25))\n",
    "    cv_scores = []\n",
    "    depth = []\n",
    " \n",
    "    # perform 10-fold cross validation\n",
    "    for k in range(len(depthsize)):\n",
    "        #print(k)\n",
    "        DT_clf = DecisionTreeClassifier(max_depth=depthsize[k],class_weight='balanced')\n",
    "        scores = cross_val_score(DT_clf, \n",
    "                                 X_train, \n",
    "                                 y_train,\n",
    "                                 cv=tscv, \n",
    "                                 n_jobs=-1)\n",
    "        cv_scores.append(scores.mean())\n",
    "        depth.append(depthsize[k])\n",
    "\n",
    "    # changing to misclassification error\n",
    "   \n",
    "    MSE = [1 - x for x in cv_scores]\n",
    "\n",
    "    # determining best depth\n",
    "    global optimal_depth\n",
    "    optimal_depth = depthsize[MSE.index(min(MSE))]\n",
    "    print('\\nThe optimal depth_size is %d.' % optimal_depth)\n",
    "\n",
    "\n",
    "    \n",
    "      # plot misclassification error vs depth sizeof tree\n",
    "    fig4 = plt.figure( facecolor='g', edgecolor='k')\n",
    "    fig4.suptitle('Tree Depth vs CV Scores',\n",
    "                  fontsize=12)\n",
    "    plt.plot(depthsize, MSE,'*-')\n",
    "\n",
    "\n",
    "    for xy in zip(depthsize, np.round(MSE,3)):\n",
    "        plt.annotate('(%s, %s)' % xy, xy=xy, textcoords='data')\n",
    "    \n",
    "    plt.xlabel('Tree depthsize')\n",
    "    plt.ylabel('CV Scores')\n",
    "    plt.grid()\n",
    "    plt.show()\n",
    "\n",
    "    print(\"the misclassification error for each depth value is : \", np.round(MSE,5))\n",
    "\n",
    "    return optimal_depth"
   ]
  },
  {
   "cell_type": "markdown",
   "metadata": {},
   "source": [
    "##### Pandas dataframe to markdown Table format"
   ]
  },
  {
   "cell_type": "code",
   "execution_count": 21,
   "metadata": {},
   "outputs": [],
   "source": [
    "# result_display  is function to convert dataframe into table format in Markdown\n",
    "def result_display(df):\n",
    "    writer = pytablewriter.MarkdownTableWriter()\n",
    "    writer.header_list = list(df.columns.values)\n",
    "    writer.value_matrix = df.values.tolist()\n",
    "    writer.write_table()"
   ]
  },
  {
   "cell_type": "markdown",
   "metadata": {},
   "source": [
    "## Decision Tree Image"
   ]
  },
  {
   "cell_type": "code",
   "execution_count": 22,
   "metadata": {},
   "outputs": [],
   "source": [
    "import os\n",
    "import io\n",
    "import pydot\n",
    "\n",
    "def decision_tree_image(classifier,features,name_png_format):\n",
    "    \n",
    "    os.environ[\"PATH\"] += os.pathsep + 'C:/ProgramData/Anaconda3/pkgs/graphviz-2.38.0-4/Library/bin/graphviz'\n",
    "    dotfile=io.StringIO()\n",
    "    tree.export_graphviz(classifier, out_file=dotfile, \n",
    "                             feature_names=features,  \n",
    "\n",
    "                             filled=True, rounded=True,  \n",
    "                             special_characters=True)  \n",
    "    #graph = graphviz.Source(dot_data)  \n",
    "    (graph,)=pydot.graph_from_dot_data(dotfile.getvalue())\n",
    "    graph.write_png(name_png_format)\n"
   ]
  },
  {
   "cell_type": "markdown",
   "metadata": {},
   "source": [
    "*Decision_tree_image* is function to get image format of decision tree with verious Decision Tree classifier ."
   ]
  },
  {
   "cell_type": "code",
   "execution_count": 23,
   "metadata": {},
   "outputs": [],
   "source": [
    "Train_data=y_train_new\n",
    "Y_test_data=y_test_new "
   ]
  },
  {
   "cell_type": "markdown",
   "metadata": {},
   "source": [
    "# Methods to convert text into vector"
   ]
  },
  {
   "cell_type": "markdown",
   "metadata": {},
   "source": [
    "Methods:\n",
    "* Bag of Words\n",
    "\n",
    "* Avg word2vec\n",
    "\n",
    "* TF-IDF\n",
    "\n",
    "* tf-idf weighted Word2Vec\n",
    "\n",
    "Using above  Method is used to convert text to numeric vector as Bag of words & TF-IDF is high dimensional which results into bad decision tree."
   ]
  },
  {
   "cell_type": "markdown",
   "metadata": {},
   "source": [
    "# 1. Bag of Words (BoW)"
   ]
  },
  {
   "cell_type": "markdown",
   "metadata": {},
   "source": [
    "##### BOW for Training Data"
   ]
  },
  {
   "cell_type": "code",
   "execution_count": 24,
   "metadata": {},
   "outputs": [
    {
     "name": "stdout",
     "output_type": "stream",
     "text": [
      "(28000, 20535)\n"
     ]
    }
   ],
   "source": [
    "count_vect = CountVectorizer() #in scikit-learn\n",
    "vect_Data = count_vect.fit_transform(X_train_data.values.ravel())\n",
    "print(vect_Data .shape)"
   ]
  },
  {
   "cell_type": "code",
   "execution_count": 25,
   "metadata": {},
   "outputs": [
    {
     "name": "stdout",
     "output_type": "stream",
     "text": [
      "TruncatedSVD : (28000, 100)\n"
     ]
    }
   ],
   "source": [
    "# truncated SVD for dimesionality reduction for 100 dimensions\n",
    "svd = TruncatedSVD(n_components=100)\n",
    "\n",
    "final_data=svd.fit_transform(vect_Data )\n",
    "print(\"TruncatedSVD :\",final_data.shape)\n",
    "    "
   ]
  },
  {
   "cell_type": "markdown",
   "metadata": {},
   "source": [
    "##### BOW for Testing Data"
   ]
  },
  {
   "cell_type": "code",
   "execution_count": 26,
   "metadata": {},
   "outputs": [
    {
     "name": "stdout",
     "output_type": "stream",
     "text": [
      "(12000, 20535)\n",
      "TruncatedSVD : (12000, 100)\n"
     ]
    }
   ],
   "source": [
    "#vector of test data\n",
    "vect_Data1= count_vect.transform(X_test_data.values.ravel())\n",
    "print(vect_Data1.shape)\n",
    "\n",
    "\n",
    "\n",
    "final_data_test=svd.transform(vect_Data1)\n",
    "print(\"TruncatedSVD :\",final_data_test.shape)"
   ]
  },
  {
   "cell_type": "markdown",
   "metadata": {},
   "source": [
    "## Optimal Depth of tree using BOW"
   ]
  },
  {
   "cell_type": "code",
   "execution_count": 27,
   "metadata": {},
   "outputs": [
    {
     "name": "stdout",
     "output_type": "stream",
     "text": [
      "\n",
      "The optimal depth_size is 18.\n"
     ]
    },
    {
     "data": {
      "image/png": "[encoded data removed]",
      "text/plain": [
       "<Figure size 432x288 with 1 Axes>"
      ]
     },
     "metadata": {},
     "output_type": "display_data"
    },
    {
     "name": "stdout",
     "output_type": "stream",
     "text": [
      "the misclassification error for each depth value is :  [0.41405 0.34486 0.36795 0.34505 0.35786 0.3511  0.35371 0.34381 0.34152\n",
      " 0.34271 0.33505 0.33205 0.3319  0.33295 0.3331  0.32995 0.33267 0.33114\n",
      " 0.33233 0.33367 0.33148 0.33238]\n"
     ]
    }
   ],
   "source": [
    "Optimal_Depth_Tree1=Optimal_Depth_Tree(final_data ,Train_data)"
   ]
  },
  {
   "cell_type": "markdown",
   "metadata": {},
   "source": [
    "##### The optimal depth_size is 18 using BOW."
   ]
  },
  {
   "cell_type": "markdown",
   "metadata": {},
   "source": [
    "#### Decision Tree classifier for optimal depth"
   ]
  },
  {
   "cell_type": "code",
   "execution_count": 120,
   "metadata": {},
   "outputs": [],
   "source": [
    "# Decision Tree classifier for optimal depth using gini index\n",
    "DT_clf1 =DecisionTreeClassifier(criterion='gini',max_depth=optimal_depth,class_weight='balanced',random_state= 0)\n",
    "DT_clf1.fit(final_data ,Train_data)\n",
    "prediction1= DT_clf1.predict(final_data_test)"
   ]
  },
  {
   "cell_type": "code",
   "execution_count": 122,
   "metadata": {},
   "outputs": [
    {
     "name": "stdout",
     "output_type": "stream",
     "text": [
      "training accuracy= 0.98075\n",
      "training error is = 0.01924999999999999\n"
     ]
    }
   ],
   "source": [
    "#Training accuracy and training error\n",
    "training_score=DT_clf1.score(final_data ,Train_data)\n",
    "print('training accuracy=',training_score)\n",
    "training_error=1-training_score\n",
    "print('training error is =',training_error)"
   ]
  },
  {
   "cell_type": "code",
   "execution_count": 123,
   "metadata": {},
   "outputs": [
    {
     "name": "stdout",
     "output_type": "stream",
     "text": [
      "Accuracy for decision Tree  model with Avg word2vec is =  0.66742\n",
      "Testing error for decision Tree  model with Avg word2vec is =  0.33258\n"
     ]
    }
   ],
   "source": [
    "# Testing Accuracy and testing error for decision Tree model\n",
    "Testing_score=round(accuracy_score(Y_test_data ,prediction1),5)\n",
    "print(\"Accuracy for decision Tree  model with Avg word2vec is = \",Testing_score)\n",
    "Testing_error=1-Testing_score\n",
    "print(\"Testing error for decision Tree  model with Avg word2vec is = \",Testing_error)"
   ]
  },
  {
   "cell_type": "code",
   "execution_count": 124,
   "metadata": {},
   "outputs": [],
   "source": [
    "F1_score = round(f1_score(Y_test_data ,prediction1,average='macro'),5)*100\n",
    "recall = round(recall_score(Y_test_data,prediction1,average='macro'),5)*100\n",
    "precision = round(precision_score(Y_test_data ,prediction1,average='macro'),5)*100"
   ]
  },
  {
   "cell_type": "code",
   "execution_count": 125,
   "metadata": {},
   "outputs": [
    {
     "name": "stdout",
     "output_type": "stream",
     "text": [
      "             precision    recall  f1-score   support\n",
      "\n",
      "          0       0.49      0.47      0.48      3929\n",
      "          1       0.75      0.76      0.76      8071\n",
      "\n",
      "avg / total       0.66      0.67      0.67     12000\n",
      "\n"
     ]
    }
   ],
   "source": [
    "print(classification_report( Y_test_data,prediction1))"
   ]
  },
  {
   "cell_type": "code",
   "execution_count": 126,
   "metadata": {},
   "outputs": [
    {
     "data": {
      "image/png": "[encoded data removed]",
      "text/plain": [
       "<Figure size 432x288 with 2 Axes>"
      ]
     },
     "metadata": {},
     "output_type": "display_data"
    }
   ],
   "source": [
    "cm = confusion_matrix(Y_test_data ,prediction1)\n",
    "label = ['negative', 'positive']\n",
    "df_conf = pd.DataFrame(cm, index = label, columns = label)\n",
    "sns.heatmap(df_conf, annot = True, fmt = \"d\")\n",
    "plt.title(\"Confusiion Matrix\")\n",
    "plt.xlabel(\"Predicted Label\")\n",
    "plt.ylabel(\"True Label\")\n",
    "plt.show()"
   ]
  },
  {
   "cell_type": "code",
   "execution_count": 127,
   "metadata": {},
   "outputs": [],
   "source": [
    "models_performence1 = {\n",
    "    'Model':['Decision Tree'],   \n",
    "    'Vectorizer': ['BOW'],    \n",
    "    'Optimal Depthsize':[optimal_depth],\n",
    "    'Training error':[training_error],\n",
    "    'Test error':[Testing_error],\n",
    "    'Accuracy':[Testing_score*100],\n",
    "    'F1':[F1_score],\n",
    "    'recall':[recall],\n",
    "    'precision':[precision]\n",
    "    \n",
    "  \n",
    "}\n"
   ]
  },
  {
   "cell_type": "code",
   "execution_count": 128,
   "metadata": {},
   "outputs": [
    {
     "name": "stdout",
     "output_type": "stream",
     "text": [
      "|    Model    |Vectorizer|Optimal Depthsize|Training error|Test error|Accuracy| F1  |recall|precision|\n",
      "|-------------|----------|----------------:|-------------:|---------:|-------:|----:|-----:|--------:|\n",
      "|Decision Tree|BOW       |               18|       0.01925|    0.3326|   66.74|61.86| 61.74|    61.99|\n",
      "\n"
     ]
    }
   ],
   "source": [
    "columns = [\"Model\",\"Vectorizer\", \"Optimal Depthsize\", \"Training error\",  \"Test error\",\n",
    "            \"Accuracy\",\"F1\",\"recall\",\"precision\",\n",
    "          ]\n",
    "df=pd.DataFrame(models_performence1, columns=columns)\n",
    "result_display(df)"
   ]
  },
  {
   "cell_type": "markdown",
   "metadata": {},
   "source": [
    "|    Model    |Vectorizer|Optimal Depthsize|Training error|Test error|Accuracy| F1  |recall|precision|\n",
    "|-------------|----------|----------------:|-------------:|---------:|-------:|----:|-----:|--------:|\n",
    "|Decision Tree|BOW       |               18|       0.01925|    0.3326|   66.74|61.86| 61.74|    61.99|\n"
   ]
  },
  {
   "cell_type": "markdown",
   "metadata": {},
   "source": [
    "### Observation:\n",
    "* BOW is high dimensional vectorizer technique.\n",
    "* Dimesional Reductionality is done using Trucated SVd .\n",
    "\n",
    "* From confusion matrix ,TPR is too high.\n",
    "* TNR,FPR,FNR is very low and almost similar.\n",
    "* Precision value is only 61.99%..\n",
    "* Since depth od tree is high ,model undergoes for overfitting.\n"
   ]
  },
  {
   "cell_type": "markdown",
   "metadata": {},
   "source": [
    "# 2. Avg word2vec\n",
    "Firstly, word2vec model is designed for amazon reviews using gensim module."
   ]
  },
  {
   "cell_type": "code",
   "execution_count": 37,
   "metadata": {},
   "outputs": [
    {
     "name": "stderr",
     "output_type": "stream",
     "text": [
      "100%|██████████| 28000/28000 [00:00<00:00, 35378.97it/s]\n"
     ]
    },
    {
     "name": "stdout",
     "output_type": "stream",
     "text": [
      "28000\n"
     ]
    }
   ],
   "source": [
    "import gensim\n",
    "list_sent=[]\n",
    "for text in tqdm(X_train_data.values.ravel()): \n",
    "    filter_text=[]\n",
    "    for i in text.split():\n",
    "        if(i.isalpha()):\n",
    "            filter_text.append(i.lower().decode(\"utf-8\"))\n",
    "        else:\n",
    "            continue \n",
    "    list_sent.append(filter_text)\n",
    "print(len(list_sent))\n",
    "\n",
    "\n",
    "    "
   ]
  },
  {
   "cell_type": "markdown",
   "metadata": {},
   "source": [
    "##### word2vec Model using Training Datasets"
   ]
  },
  {
   "cell_type": "code",
   "execution_count": 38,
   "metadata": {},
   "outputs": [],
   "source": [
    "\n",
    "w2v_model=gensim.models.Word2Vec(list_sent,min_count=5,size=100, workers=4) \n",
    "#this model is used in avg word2vec  .  \n"
   ]
  },
  {
   "cell_type": "code",
   "execution_count": 39,
   "metadata": {},
   "outputs": [
    {
     "name": "stdout",
     "output_type": "stream",
     "text": [
      "7183\n"
     ]
    }
   ],
   "source": [
    "words = list(w2v_model.wv.vocab)\n",
    "print(len(words))"
   ]
  },
  {
   "cell_type": "code",
   "execution_count": 40,
   "metadata": {},
   "outputs": [],
   "source": [
    "pickle_path_w2v_model='w2v_model.pkl'\n",
    "w2v_model_path=open(pickle_path_w2v_model,'wb')\n",
    "pickle.dump(w2v_model,w2v_model_path)\n",
    "w2v_model_path.close()"
   ]
  },
  {
   "cell_type": "code",
   "execution_count": 41,
   "metadata": {},
   "outputs": [],
   "source": [
    "pickle_path_w2v_model='w2v_model.pkl'\n",
    "unpickle_w2v_model=open(pickle_path_w2v_model,'rb')\n",
    "w2v_model=pickle.load(unpickle_w2v_model)"
   ]
  },
  {
   "cell_type": "markdown",
   "metadata": {},
   "source": [
    "#### Avg Word2Vec "
   ]
  },
  {
   "cell_type": "code",
   "execution_count": 42,
   "metadata": {},
   "outputs": [
    {
     "name": "stderr",
     "output_type": "stream",
     "text": [
      "100%|██████████| 28000/28000 [00:05<00:00, 5570.97it/s]"
     ]
    },
    {
     "name": "stdout",
     "output_type": "stream",
     "text": [
      "28000\n"
     ]
    },
    {
     "name": "stderr",
     "output_type": "stream",
     "text": [
      "\n"
     ]
    }
   ],
   "source": [
    "#  For Training\n",
    "\n",
    "sent_vectors = []\n",
    "for sent in  tqdm(list_sent): # for each review/sentence\n",
    "    sent_vec = np.zeros(100) \n",
    "    cnt_words =0 # num of words with a valid vector in the sentence/review\n",
    "    for word in sent: \n",
    "        try:\n",
    "            vec = w2v_model.wv[word]\n",
    "            sent_vec += vec\n",
    "            cnt_words += 1\n",
    "        except:\n",
    "            pass\n",
    "    sent_vec /= cnt_words\n",
    "    sent_vectors.append(sent_vec)\n",
    "\n",
    "\n",
    "print(len(sent_vectors))\n",
    "\n",
    "#print(sent_vectors[0:4])\n",
    "\n",
    "\n"
   ]
  },
  {
   "cell_type": "code",
   "execution_count": 43,
   "metadata": {},
   "outputs": [],
   "source": [
    "# Converting Nan value to zero in sent vectors.\n",
    "Sent_Nan = np.where(np.isnan(sent_vectors), 0, sent_vectors)\n",
    "\n"
   ]
  },
  {
   "cell_type": "code",
   "execution_count": 44,
   "metadata": {},
   "outputs": [
    {
     "name": "stdout",
     "output_type": "stream",
     "text": [
      "<class 'numpy.ndarray'>\n"
     ]
    }
   ],
   "source": [
    "# converting sent list to nd array\n",
    "Sent_final_vector = np.asarray(Sent_Nan )\n",
    "print(type(Sent_final_vector))\n"
   ]
  },
  {
   "cell_type": "code",
   "execution_count": 45,
   "metadata": {},
   "outputs": [
    {
     "name": "stderr",
     "output_type": "stream",
     "text": [
      "100%|██████████| 12000/12000 [00:00<00:00, 33979.17it/s]\n",
      "100%|██████████| 12000/12000 [00:02<00:00, 5262.07it/s]"
     ]
    },
    {
     "name": "stdout",
     "output_type": "stream",
     "text": [
      "12000\n",
      "<class 'numpy.ndarray'>\n"
     ]
    },
    {
     "name": "stderr",
     "output_type": "stream",
     "text": [
      "\n"
     ]
    }
   ],
   "source": [
    "#  ForTesting\n",
    "# Words in test reviews\n",
    "list_sent_test=[]\n",
    "for text in tqdm(X_test_data.values.ravel()): \n",
    "    filter_text=[]\n",
    "    for i in text.split():\n",
    "        if(i.isalpha()):\n",
    "            filter_text.append(i.lower().decode(\"utf-8\"))\n",
    "        else:\n",
    "            continue \n",
    "    list_sent_test.append(filter_text)\n",
    "#print(len(list_sent_test))\n",
    "\n",
    "sent_vectors1 = []\n",
    "for sent in tqdm(list_sent_test): # for each review/sentence\n",
    "    sent_vec = np.zeros(100) \n",
    "    cnt_words =0 # num of words with a valid vector in the sentence/review\n",
    "    for word in sent: \n",
    "        try:\n",
    "            vec = w2v_model.wv[word]\n",
    "            sent_vec += vec\n",
    "            cnt_words += 1\n",
    "        except:\n",
    "            pass\n",
    "    sent_vec /= cnt_words\n",
    "    sent_vectors1.append(sent_vec)\n",
    "\n",
    "\n",
    "print(len(sent_vectors1))\n",
    "\n",
    "#print(sent_vectors1)\n",
    "# Converting Nan value to zero in sent vectors.\n",
    "Sent_Nan1 = np.where(np.isnan(sent_vectors1), 0, sent_vectors1)\n",
    "\n",
    "# converting sent list to nd array\n",
    "Sent_final_vector1 = np.asarray(Sent_Nan1)\n",
    "print(type(Sent_final_vector1))\n",
    "\n"
   ]
  },
  {
   "cell_type": "markdown",
   "metadata": {},
   "source": [
    "#### Dumping & Loading Pickle file for  Avg word2vec"
   ]
  },
  {
   "cell_type": "code",
   "execution_count": 46,
   "metadata": {},
   "outputs": [],
   "source": [
    "pickle_path_AW2V_train='X_data_AW2V_train.pkl'\n",
    "X_data_AW2V_train=open(pickle_path_AW2V_train,'wb')\n",
    "pickle.dump(Sent_final_vector,X_data_AW2V_train)\n",
    "X_data_AW2V_train.close()\n",
    "\n",
    "pickle_path_AW2V_test='X_data_AW2V_test.pkl'\n",
    "X_data_AW2V_test=open(pickle_path_AW2V_test,'wb')\n",
    "pickle.dump(Sent_final_vector1,X_data_AW2V_test)\n",
    "X_data_AW2V_test.close()\n"
   ]
  },
  {
   "cell_type": "code",
   "execution_count": 47,
   "metadata": {},
   "outputs": [],
   "source": [
    "pickle_path_AW2V_train='X_data_AW2V_train.pkl'\n",
    "unpickle_path3_train=open(pickle_path_AW2V_train,'rb')\n",
    "Sent_final_vector=pickle.load(unpickle_path3_train)\n",
    "\n",
    "pickle_path_AW2V_test='X_data_AW2V_test.pkl'\n",
    "unpickle_path3_test=open(pickle_path_AW2V_test,'rb')\n",
    "Sent_final_vector1=pickle.load(unpickle_path3_test)"
   ]
  },
  {
   "cell_type": "code",
   "execution_count": 48,
   "metadata": {},
   "outputs": [
    {
     "name": "stdout",
     "output_type": "stream",
     "text": [
      "(28000, 100)\n"
     ]
    }
   ],
   "source": [
    "# For Train\n",
    "final_w2v_count_Train=Sent_final_vector\n",
    "print(final_w2v_count_Train.shape)"
   ]
  },
  {
   "cell_type": "code",
   "execution_count": 49,
   "metadata": {},
   "outputs": [
    {
     "name": "stdout",
     "output_type": "stream",
     "text": [
      "(12000, 100)\n"
     ]
    }
   ],
   "source": [
    "\n",
    "final_w2v_count_Test=Sent_final_vector1# For Test\n",
    "print(final_w2v_count_Test.shape)\n"
   ]
  },
  {
   "cell_type": "markdown",
   "metadata": {},
   "source": [
    "##### for Training datasets ,avg word2vec \n",
    "                 final_w2v_count_Train,                 \n",
    "              \n",
    "   \n",
    "##### for testing datasets ,avg word2vec \n",
    "                 final_w2v_count_Test, \n",
    "                "
   ]
  },
  {
   "cell_type": "markdown",
   "metadata": {},
   "source": [
    "## Optimal Depth of tree using Avg word2vec"
   ]
  },
  {
   "cell_type": "code",
   "execution_count": 50,
   "metadata": {},
   "outputs": [
    {
     "name": "stdout",
     "output_type": "stream",
     "text": [
      "\n",
      "The optimal depth_size is 10.\n"
     ]
    },
    {
     "data": {
      "image/png": "[encoded data removed]",
      "text/plain": [
       "<Figure size 432x288 with 1 Axes>"
      ]
     },
     "metadata": {},
     "output_type": "display_data"
    },
    {
     "name": "stdout",
     "output_type": "stream",
     "text": [
      "the misclassification error for each depth value is :  [0.307   0.27752 0.28167 0.28462 0.27552 0.27681 0.2721  0.27124 0.27619\n",
      " 0.2751  0.27448 0.27424 0.27238 0.27338 0.27333 0.27352 0.27295 0.2751\n",
      " 0.27486 0.27471 0.27638 0.27571]\n"
     ]
    }
   ],
   "source": [
    "Optimal_Depth_Tree1=Optimal_Depth_Tree(final_w2v_count_Train ,Train_data)"
   ]
  },
  {
   "cell_type": "markdown",
   "metadata": {},
   "source": [
    "### Observation\n",
    "* The optimal depth_size  is 12 using Avg word2vec featurization on Decision Tree model.\n",
    "* The misclassification error for each depth value is 0.26348 and It is shown in above graph.\n"
   ]
  },
  {
   "cell_type": "markdown",
   "metadata": {},
   "source": [
    "#### Decision Tree classifier for optimal depth"
   ]
  },
  {
   "cell_type": "code",
   "execution_count": 136,
   "metadata": {},
   "outputs": [],
   "source": [
    "# Decision Tree classifier for optimal depth using gini index\n",
    "DT_clf2 =DecisionTreeClassifier(criterion='gini',\n",
    "                                max_depth=optimal_depth,\n",
    "                                class_weight='balanced',\n",
    "                                random_state= 0)\n",
    "DT_clf2.fit(final_w2v_count_Train ,Train_data)\n",
    "prediction2= DT_clf2.predict(final_w2v_count_Test)\n"
   ]
  },
  {
   "cell_type": "code",
   "execution_count": 137,
   "metadata": {},
   "outputs": [
    {
     "name": "stdout",
     "output_type": "stream",
     "text": [
      "training accuracy= 0.8420357142857143\n",
      "training error is = 0.15796428571428567\n"
     ]
    }
   ],
   "source": [
    "#Training accuracy and training error\n",
    "training_score=DT_clf2.score(final_w2v_count_Train ,Train_data)\n",
    "print('training accuracy=',training_score)\n",
    "training_error=1-training_score\n",
    "print('training error is =',training_error)"
   ]
  },
  {
   "cell_type": "code",
   "execution_count": 138,
   "metadata": {},
   "outputs": [
    {
     "name": "stdout",
     "output_type": "stream",
     "text": [
      "Accuracy for decision Tree  model with Avg word2vec is =  0.72717\n",
      "Testing error for decision Tree  model with Avg word2vec is =  0.27283\n"
     ]
    }
   ],
   "source": [
    "# Testing Accuracy and testing error for decision Tree model\n",
    "Testing_score=round(accuracy_score(Y_test_data ,prediction2),5)\n",
    "print(\"Accuracy for decision Tree  model with Avg word2vec is = \",Testing_score)\n",
    "Testing_error=1-Testing_score\n",
    "print(\"Testing error for decision Tree  model with Avg word2vec is = \",Testing_error)"
   ]
  },
  {
   "cell_type": "code",
   "execution_count": 139,
   "metadata": {},
   "outputs": [],
   "source": [
    "F1_score = round(f1_score(Y_test_data ,prediction2,average='macro'),5)*100\n",
    "recall = round(recall_score(Y_test_data,prediction2,average='macro'),5)*100\n",
    "precision = round(precision_score(Y_test_data ,prediction2,average='macro'),5)*100"
   ]
  },
  {
   "cell_type": "code",
   "execution_count": 140,
   "metadata": {},
   "outputs": [
    {
     "name": "stdout",
     "output_type": "stream",
     "text": [
      "             precision    recall  f1-score   support\n",
      "\n",
      "          0       0.56      0.73      0.64      3929\n",
      "          1       0.85      0.73      0.78      8071\n",
      "\n",
      "avg / total       0.75      0.73      0.73     12000\n",
      "\n"
     ]
    }
   ],
   "source": [
    "print(classification_report( Y_test_data,prediction2))"
   ]
  },
  {
   "cell_type": "code",
   "execution_count": 141,
   "metadata": {},
   "outputs": [
    {
     "data": {
      "image/png": "[encoded data removed]",
      "text/plain": [
       "<Figure size 432x288 with 2 Axes>"
      ]
     },
     "metadata": {},
     "output_type": "display_data"
    }
   ],
   "source": [
    "cm = confusion_matrix(Y_test_data ,prediction2)\n",
    "label = ['negative', 'positive']\n",
    "df_conf = pd.DataFrame(cm, index = label, columns = label)\n",
    "sns.heatmap(df_conf, annot = True, fmt = \"d\")\n",
    "plt.title(\"Confusiion Matrix\")\n",
    "plt.xlabel(\"Predicted Label\")\n",
    "plt.ylabel(\"True Label\")\n",
    "plt.show()"
   ]
  },
  {
   "cell_type": "code",
   "execution_count": 142,
   "metadata": {},
   "outputs": [],
   "source": [
    "models_performence1['Model'].append('Decision Tree')\n",
    "models_performence1['Vectorizer'].append('Avg word2vec')\n",
    "models_performence1['Optimal Depthsize'].append(optimal_depth)\n",
    "models_performence1['Training error'].append(training_error)\n",
    "models_performence1[ 'Test error'].append(Testing_error)\n",
    "models_performence1[ 'Accuracy'].append(Testing_score*100)\n",
    "models_performence1[ 'F1'].append(F1_score)\n",
    "models_performence1['recall'].append(recall)\n",
    "models_performence1[ 'precision'].append(precision)"
   ]
  },
  {
   "cell_type": "code",
   "execution_count": 143,
   "metadata": {},
   "outputs": [
    {
     "name": "stdout",
     "output_type": "stream",
     "text": [
      "|    Model    | Vectorizer |Optimal Depthsize|Training error|Test error|Accuracy| F1  |recall|precision|\n",
      "|-------------|------------|----------------:|-------------:|---------:|-------:|----:|-----:|--------:|\n",
      "|Decision Tree|BOW         |               18|       0.01925|    0.3326|   66.74|61.86| 61.74|    61.99|\n",
      "|Decision Tree|Avg word2vec|               10|       0.15796|    0.2728|   72.72|70.90| 72.77|    70.54|\n",
      "\n"
     ]
    }
   ],
   "source": [
    "columns = [\"Model\",\"Vectorizer\", \"Optimal Depthsize\", \"Training error\",  \"Test error\",\n",
    "            \"Accuracy\",\"F1\",\"recall\",\"precision\",\n",
    "          ]\n",
    "df2=pd.DataFrame(models_performence1, columns=columns)\n",
    "result_display(df2)"
   ]
  },
  {
   "cell_type": "markdown",
   "metadata": {},
   "source": [
    "|    Model    | Vectorizer |Optimal Depthsize|Training error|Test error|Accuracy| F1  |recall|precision|\n",
    "|-------------|------------|----------------:|-------------:|---------:|-------:|----:|-----:|--------:|\n",
    "|Decision Tree|BOW         |               18|       0.01925|    0.3326|   66.74|61.86| 61.74|    61.99|\n",
    "|Decision Tree|Avg word2vec|               10|       0.15796|    0.2728|   72.72|70.90| 72.77|    70.54|\n"
   ]
  },
  {
   "cell_type": "markdown",
   "metadata": {},
   "source": [
    "### Observation:\n",
    "\n",
    "* Decision Tree for avg word2vec featurization  work properly  on Amazon reviews data set .\n",
    "* All scoring metrics's results is best. F1 score is 70.90%\n",
    "* Optimal depthsize is 10.\n",
    "* From confusion matrix,TPR &TNR is high. It means model is working properly as comapred BOW.\n"
   ]
  },
  {
   "cell_type": "markdown",
   "metadata": {},
   "source": [
    "# 3. TF-IDF\n"
   ]
  },
  {
   "cell_type": "markdown",
   "metadata": {},
   "source": [
    "##### TF-IDF for Training data"
   ]
  },
  {
   "cell_type": "code",
   "execution_count": 60,
   "metadata": {},
   "outputs": [],
   "source": [
    "\n",
    "tf_idf_vect = TfidfVectorizer(ngram_range=(1,2))\n",
    "final_tf_idf11 = tf_idf_vect.fit_transform(X_train_data.values.ravel())\n",
    "final_tf_idf11.get_shape()\n",
    "tfidf_feat = tf_idf_vect.get_feature_names() "
   ]
  },
  {
   "cell_type": "code",
   "execution_count": 61,
   "metadata": {},
   "outputs": [
    {
     "name": "stdout",
     "output_type": "stream",
     "text": [
      "TruncatedSVD : (28000, 100)\n"
     ]
    }
   ],
   "source": [
    "final_tf_idf=svd.fit_transform(final_tf_idf11 )\n",
    "print(\"TruncatedSVD :\",final_tf_idf.shape)\n"
   ]
  },
  {
   "cell_type": "markdown",
   "metadata": {},
   "source": [
    "#### Dumping & Loading Pickle file for training data (TF-IDF)"
   ]
  },
  {
   "cell_type": "code",
   "execution_count": 62,
   "metadata": {},
   "outputs": [],
   "source": [
    "pickle_path_tfidf_train='X_train_data_tfidf.pkl'\n",
    "X_train_data_tfidf=open(pickle_path_tfidf_train,'wb')\n",
    "pickle.dump(final_tf_idf ,X_train_data_tfidf)\n",
    "X_train_data_tfidf.close()"
   ]
  },
  {
   "cell_type": "code",
   "execution_count": 63,
   "metadata": {},
   "outputs": [],
   "source": [
    "pickle_path_tfidf_train='X_train_data_tfidf.pkl'\n",
    "unpickle_path5=open(pickle_path_tfidf_train,'rb')\n",
    "final_tf_idf=pickle.load(unpickle_path5)"
   ]
  },
  {
   "cell_type": "code",
   "execution_count": 64,
   "metadata": {},
   "outputs": [
    {
     "name": "stdout",
     "output_type": "stream",
     "text": [
      "Train Data:  (28000, 100)\n"
     ]
    }
   ],
   "source": [
    "\n",
    "final_tfidf_np= final_tf_idf\n",
    "print(\"Train Data: \",final_tfidf_np.shape)\n",
    "\n",
    "warnings.filterwarnings(\"ignore\")    "
   ]
  },
  {
   "cell_type": "code",
   "execution_count": 65,
   "metadata": {},
   "outputs": [
    {
     "data": {
      "text/plain": [
       "(12000, 493062)"
      ]
     },
     "execution_count": 65,
     "metadata": {},
     "output_type": "execute_result"
    }
   ],
   "source": [
    "final_tf_idf_test1_svd = tf_idf_vect.transform(X_test_data.values.ravel())\n",
    "final_tf_idf_test1_svd.get_shape()"
   ]
  },
  {
   "cell_type": "code",
   "execution_count": 66,
   "metadata": {},
   "outputs": [
    {
     "name": "stdout",
     "output_type": "stream",
     "text": [
      "TruncatedSVD : (12000, 100)\n"
     ]
    }
   ],
   "source": [
    "\n",
    "\n",
    "final_tf_idf_test=svd.transform(final_tf_idf_test1_svd)\n",
    "print(\"TruncatedSVD :\",final_tf_idf_test.shape)\n",
    "#Normalize Data\n",
    "#X_sparse_tsvd = svd.fit(vect_Data1).transform(X_sparse)"
   ]
  },
  {
   "cell_type": "markdown",
   "metadata": {},
   "source": [
    "#### Dumping & Loading Pickle file for testing data(TF-IDF)"
   ]
  },
  {
   "cell_type": "code",
   "execution_count": 67,
   "metadata": {},
   "outputs": [],
   "source": [
    "\n",
    "pickle_path_tfidf_test='X_test_data_tfidf.pkl'\n",
    "X_test_data_tfidf=open(pickle_path_tfidf_test,'wb')\n",
    "pickle.dump(final_tf_idf_test ,X_test_data_tfidf)\n",
    "X_test_data_tfidf.close()"
   ]
  },
  {
   "cell_type": "code",
   "execution_count": 68,
   "metadata": {},
   "outputs": [],
   "source": [
    "pickle_path_tfidf_test='X_test_data_tfidf.pkl'\n",
    "unpickle_path6=open(pickle_path_tfidf_test,'rb')\n",
    "final_tfidf_np_test=pickle.load(unpickle_path6)"
   ]
  },
  {
   "cell_type": "code",
   "execution_count": 69,
   "metadata": {},
   "outputs": [
    {
     "name": "stdout",
     "output_type": "stream",
     "text": [
      "\n",
      "The optimal depth_size is 14.\n"
     ]
    },
    {
     "data": {
      "image/png": "[encoded data removed]",
      "text/plain": [
       "<Figure size 432x288 with 1 Axes>"
      ]
     },
     "metadata": {},
     "output_type": "display_data"
    },
    {
     "name": "stdout",
     "output_type": "stream",
     "text": [
      "the misclassification error for each depth value is :  [0.36762 0.32371 0.31033 0.30724 0.30714 0.29967 0.3039  0.30462 0.2999\n",
      " 0.29643 0.29681 0.29238 0.29433 0.29438 0.29505 0.29267 0.29548 0.2941\n",
      " 0.29386 0.29605 0.29562 0.29305]\n"
     ]
    }
   ],
   "source": [
    "Optimal_Depth_Tree1=Optimal_Depth_Tree(final_tfidf_np,Train_data)"
   ]
  },
  {
   "cell_type": "markdown",
   "metadata": {},
   "source": [
    "#### Decision Tree classifier for optimal depth"
   ]
  },
  {
   "cell_type": "code",
   "execution_count": 145,
   "metadata": {},
   "outputs": [],
   "source": [
    "DT_clf3 =DecisionTreeClassifier(criterion='gini',\n",
    "                                max_depth=optimal_depth,class_weight='balanced', random_state= 0)\n",
    "DT_clf3.fit(final_tfidf_np,Train_data)\n",
    "prediction3= DT_clf3.predict(final_tfidf_np_test)"
   ]
  },
  {
   "cell_type": "code",
   "execution_count": 146,
   "metadata": {},
   "outputs": [
    {
     "name": "stdout",
     "output_type": "stream",
     "text": [
      "training accuracy= 0.9204285714285714\n",
      "training error is = 0.07957142857142863\n"
     ]
    }
   ],
   "source": [
    "#Training accuracy and training error\n",
    "training_score=DT_clf3.score(final_tfidf_np,Train_data)\n",
    "print('training accuracy=',training_score)\n",
    "training_error=1-training_score\n",
    "print('training error is =',training_error)"
   ]
  },
  {
   "cell_type": "code",
   "execution_count": 147,
   "metadata": {},
   "outputs": [
    {
     "name": "stdout",
     "output_type": "stream",
     "text": [
      "Accuracy for Decision tree model with TF-IDF weighted Word2Vec is =  0.69467\n",
      "Testing error for decision Tree model withTF-IDF weighted Word2Vec is =  0.30533\n"
     ]
    }
   ],
   "source": [
    "# Testing Accuracy and testing error for knn model\n",
    "\n",
    "Testing_score=round(accuracy_score(Y_test_data ,prediction3),5)\n",
    "print(\"Accuracy for Decision tree model with TF-IDF weighted Word2Vec is = \",Testing_score)\n",
    "Testing_error=1-Testing_score\n",
    "print(\"Testing error for decision Tree model withTF-IDF weighted Word2Vec is = \",Testing_error)"
   ]
  },
  {
   "cell_type": "code",
   "execution_count": 148,
   "metadata": {},
   "outputs": [],
   "source": [
    "F1_score = round(f1_score(Y_test_data ,prediction3,average='macro'),5)*100\n",
    "recall = round(recall_score(Y_test_data,prediction3,average='macro'),5)*100\n",
    "precision = round(precision_score(Y_test_data ,prediction3,average='macro'),5)*100"
   ]
  },
  {
   "cell_type": "code",
   "execution_count": 149,
   "metadata": {},
   "outputs": [
    {
     "name": "stdout",
     "output_type": "stream",
     "text": [
      "             precision    recall  f1-score   support\n",
      "\n",
      "          0       0.53      0.58      0.56      3929\n",
      "          1       0.79      0.75      0.77      8071\n",
      "\n",
      "avg / total       0.70      0.69      0.70     12000\n",
      "\n"
     ]
    }
   ],
   "source": [
    "print(classification_report( Y_test_data,prediction3))"
   ]
  },
  {
   "cell_type": "code",
   "execution_count": 150,
   "metadata": {},
   "outputs": [
    {
     "data": {
      "image/png": "[encoded data removed]",
      "text/plain": [
       "<Figure size 432x288 with 2 Axes>"
      ]
     },
     "metadata": {},
     "output_type": "display_data"
    }
   ],
   "source": [
    "cm = confusion_matrix(Y_test_data ,prediction3)\n",
    "label = ['negative', 'positive']\n",
    "df_conf = pd.DataFrame(cm, index = label, columns = label)\n",
    "sns.heatmap(df_conf, annot = True, fmt = \"d\")\n",
    "plt.title(\"Confusiion Matrix\")\n",
    "plt.xlabel(\"Predicted Label\")\n",
    "plt.ylabel(\"True Label\")\n",
    "plt.show()"
   ]
  },
  {
   "cell_type": "code",
   "execution_count": 151,
   "metadata": {},
   "outputs": [],
   "source": [
    "models_performence1['Model'].append('Decision Tree')\n",
    "models_performence1['Vectorizer'].append('TF-IDF')\n",
    "models_performence1['Optimal Depthsize'].append(optimal_depth)\n",
    "models_performence1['Training error'].append(training_error)\n",
    "models_performence1[ 'Test error'].append(Testing_error)\n",
    "models_performence1[ 'Accuracy'].append(Testing_score*100)\n",
    "models_performence1[ 'F1'].append(F1_score)\n",
    "models_performence1['recall'].append(recall)\n",
    "models_performence1[ 'precision'].append(precision)"
   ]
  },
  {
   "cell_type": "code",
   "execution_count": 152,
   "metadata": {},
   "outputs": [
    {
     "name": "stdout",
     "output_type": "stream",
     "text": [
      "|    Model    | Vectorizer |Optimal Depthsize|Training error|Test error|Accuracy| F1  |recall|precision|\n",
      "|-------------|------------|----------------:|-------------:|---------:|-------:|----:|-----:|--------:|\n",
      "|Decision Tree|BOW         |               18|       0.01925|    0.3326|   66.74|61.86| 61.74|    61.99|\n",
      "|Decision Tree|Avg word2vec|               10|       0.15796|    0.2728|   72.72|70.90| 72.77|    70.54|\n",
      "|Decision Tree|TF-IDF      |               14|       0.07957|    0.3053|   69.47|66.17| 66.64|    65.89|\n",
      "\n"
     ]
    }
   ],
   "source": [
    "columns = [\"Model\",\"Vectorizer\", \"Optimal Depthsize\", \"Training error\",  \"Test error\",\n",
    "            \"Accuracy\",\"F1\",\"recall\",\"precision\",\n",
    "          ]\n",
    "df3=pd.DataFrame(models_performence1, columns=columns)\n",
    "result_display(df3)"
   ]
  },
  {
   "cell_type": "markdown",
   "metadata": {},
   "source": [
    "|    Model    | Vectorizer |Optimal Depthsize|Training error|Test error|Accuracy| F1  |recall|precision|\n",
    "|-------------|------------|----------------:|-------------:|---------:|-------:|----:|-----:|--------:|\n",
    "|Decision Tree|BOW         |               18|       0.01925|    0.3326|   66.74|61.86| 61.74|    61.99|\n",
    "|Decision Tree|Avg word2vec|               10|       0.15796|    0.2728|   72.72|70.90| 72.77|    70.54|\n",
    "|Decision Tree|TF-IDF      |               14|       0.07957|    0.3053|   69.47|66.17| 66.64|    65.89|"
   ]
  },
  {
   "cell_type": "markdown",
   "metadata": {},
   "source": [
    "### Observations:\n",
    "* The optimal depth size of decision tree using TF-IDF is 14.\n",
    "* from confusion matrix, FPR,FNR & TNR is too low and almost similar. It means model doesn't work properly.TPR is too high.\n"
   ]
  },
  {
   "cell_type": "markdown",
   "metadata": {},
   "source": [
    "#  4.TF-IDF weighted Word2Vec"
   ]
  },
  {
   "cell_type": "code",
   "execution_count": 79,
   "metadata": {},
   "outputs": [],
   "source": [
    "tfidf_feat = tf_idf_vect.get_feature_names() \n",
    "w2v_words = list(w2v_model.wv.vocab)\n",
    "dictionary = dict(zip(tf_idf_vect.get_feature_names(), list(tf_idf_vect.idf_)))"
   ]
  },
  {
   "cell_type": "code",
   "execution_count": 80,
   "metadata": {},
   "outputs": [
    {
     "name": "stderr",
     "output_type": "stream",
     "text": [
      "100%|██████████| 28000/28000 [00:00<00:00, 154692.47it/s]\n"
     ]
    }
   ],
   "source": [
    "list_of_sent=[]\n",
    "for sent in tqdm(X_train_data.values.ravel()):\n",
    "    list_of_sent.append(sent.decode(\"utf-8\").split())"
   ]
  },
  {
   "cell_type": "code",
   "execution_count": 81,
   "metadata": {},
   "outputs": [
    {
     "name": "stderr",
     "output_type": "stream",
     "text": [
      "100%|██████████| 28000/28000 [00:55<00:00, 504.22it/s]\n"
     ]
    }
   ],
   "source": [
    "# TF-IDF weighted Word2Vec\n",
    "tfidf_feat =tf_idf_vect.get_feature_names() # tfidf words/col-names\n",
    "\n",
    "tfidf_sent_vectors = []; \n",
    "row=0;\n",
    "for sent in tqdm(list_of_sent): \n",
    "    sent_vec = np.zeros(100) \n",
    "    weight_sum =0;\n",
    "    for word in sent: \n",
    "        if word in w2v_words:\n",
    "            vec = w2v_model.wv[word]\n",
    "#             \n",
    "            tf_idf = dictionary[word]*sent.count(word)\n",
    "            sent_vec += (vec * tf_idf)\n",
    "            weight_sum += tf_idf\n",
    "    if weight_sum != 0:\n",
    "        sent_vec /= weight_sum\n",
    "    tfidf_sent_vectors .append(sent_vec)\n",
    "    row += 1"
   ]
  },
  {
   "cell_type": "code",
   "execution_count": 82,
   "metadata": {},
   "outputs": [
    {
     "name": "stdout",
     "output_type": "stream",
     "text": [
      "28000\n"
     ]
    }
   ],
   "source": [
    "print(len(tfidf_sent_vectors))"
   ]
  },
  {
   "cell_type": "code",
   "execution_count": 83,
   "metadata": {},
   "outputs": [],
   "source": [
    "#print(tfidf_sent_vectors[2])\n",
    "tfidf_sent_vectors_train  = np.where(np.isnan(tfidf_sent_vectors ), 0, tfidf_sent_vectors )\n",
    "#print(tfidf_sent_vectors_train[2])"
   ]
  },
  {
   "cell_type": "code",
   "execution_count": 84,
   "metadata": {},
   "outputs": [
    {
     "name": "stdout",
     "output_type": "stream",
     "text": [
      "<class 'list'>\n"
     ]
    }
   ],
   "source": [
    "tfidf_sent_vectors_train  = np.asarray(tfidf_sent_vectors_train )\n",
    "print(type(tfidf_sent_vectors))"
   ]
  },
  {
   "cell_type": "markdown",
   "metadata": {},
   "source": [
    "#### Dumping & Loading Pickle file for trainText data (TF-IDF weighted word2vec)"
   ]
  },
  {
   "cell_type": "code",
   "execution_count": 85,
   "metadata": {},
   "outputs": [],
   "source": [
    "pickle_path_tfidf_weighted='X_data_tfidf_weighted.pkl'\n",
    "X_data_tfidf_weighted=open(pickle_path_tfidf_weighted,'wb')\n",
    "pickle.dump(tfidf_sent_vectors_train  ,X_data_tfidf_weighted)\n",
    "X_data_tfidf_weighted.close()"
   ]
  },
  {
   "cell_type": "code",
   "execution_count": 86,
   "metadata": {},
   "outputs": [],
   "source": [
    "pickle_path_tfidf_weighted='X_data_tfidf_weighted.pkl'\n",
    "unpickle_path7=open(pickle_path_tfidf_weighted,'rb')\n",
    "tfidf_sent_vectors_train =pickle.load(unpickle_path7)"
   ]
  },
  {
   "cell_type": "code",
   "execution_count": 87,
   "metadata": {},
   "outputs": [],
   "source": [
    "final_tfidf_w2v_np_train=tfidf_sent_vectors_train"
   ]
  },
  {
   "cell_type": "markdown",
   "metadata": {},
   "source": [
    "##### For test Tf-idf weighted word2vec"
   ]
  },
  {
   "cell_type": "code",
   "execution_count": 88,
   "metadata": {},
   "outputs": [
    {
     "name": "stderr",
     "output_type": "stream",
     "text": [
      "100%|██████████| 12000/12000 [00:00<00:00, 113486.60it/s]\n"
     ]
    }
   ],
   "source": [
    "list_of_sent1=[]\n",
    "for sent in tqdm(X_test_data.values.ravel()):\n",
    "    list_of_sent1.append(sent.decode(\"utf-8\").split())"
   ]
  },
  {
   "cell_type": "code",
   "execution_count": 89,
   "metadata": {},
   "outputs": [
    {
     "name": "stderr",
     "output_type": "stream",
     "text": [
      "100%|██████████| 12000/12000 [00:24<00:00, 482.02it/s]\n"
     ]
    }
   ],
   "source": [
    "# TF-IDF weighted Word2Vec\n",
    "tfidf_feat =tf_idf_vect.get_feature_names() # tfidf words/col-names\n",
    "\n",
    "tfidf_sent_vectors1 = []; \n",
    "row=0;\n",
    "for sent in tqdm( list_of_sent1): \n",
    "    sent_vec = np.zeros(100) \n",
    "    weight_sum =0;\n",
    "    for word in sent: \n",
    "        if word in w2v_words:\n",
    "            vec = w2v_model.wv[word]\n",
    "#             \n",
    "            tf_idf = dictionary[word]*sent.count(word)\n",
    "            sent_vec += (vec * tf_idf)\n",
    "            weight_sum += tf_idf\n",
    "    if weight_sum != 0:\n",
    "        sent_vec /= weight_sum\n",
    "    tfidf_sent_vectors1 .append(sent_vec)\n",
    "    row += 1"
   ]
  },
  {
   "cell_type": "code",
   "execution_count": 118,
   "metadata": {},
   "outputs": [],
   "source": [
    "#print(len(tfidf_sent_vectors1))\n",
    "#print(tfidf_sent_vectors1[2])\n",
    "tfidf_sent_vectors_test  = np.where(np.isnan(tfidf_sent_vectors1 ),\n",
    "                                     0, tfidf_sent_vectors1 )\n",
    "#print(tfidf_sent_vectors_test[2])\n",
    "final_tfidf_w2v_np_test = np.asarray(tfidf_sent_vectors_test )\n",
    "#print(type(tfidf_sent_vectors1))"
   ]
  },
  {
   "cell_type": "markdown",
   "metadata": {},
   "source": [
    "#### Dumping & Loading Pickle file for test Text data (TF-IDF weighted word2vec)"
   ]
  },
  {
   "cell_type": "code",
   "execution_count": 91,
   "metadata": {},
   "outputs": [],
   "source": [
    "pickle_path_tfidf_weighted1='X_data_tfidf_weighted_test.pkl'\n",
    "X_data_tfidf_weighted1=open(pickle_path_tfidf_weighted1,'wb')\n",
    "pickle.dump(final_tfidf_w2v_np_test  ,X_data_tfidf_weighted1)\n",
    "X_data_tfidf_weighted1.close()"
   ]
  },
  {
   "cell_type": "code",
   "execution_count": 92,
   "metadata": {},
   "outputs": [],
   "source": [
    "pickle_path_tfidf_weighted1='X_data_tfidf_weighted_test.pkl'\n",
    "unpickle_path71=open(pickle_path_tfidf_weighted1,'rb')\n",
    "final_tfidf_w2v_np_test1 =pickle.load(unpickle_path71)"
   ]
  },
  {
   "cell_type": "code",
   "execution_count": 93,
   "metadata": {},
   "outputs": [],
   "source": [
    "final_tfidf_w2v_np_test= final_tfidf_w2v_np_test1"
   ]
  },
  {
   "cell_type": "markdown",
   "metadata": {},
   "source": [
    "for Training Data:\n",
    "\n",
    "            \n",
    "            final_tfidf_w2v_np_train\n",
    "\n",
    "For testing data:\n",
    "\n",
    "            \n",
    "            final_tfidf_w2v_np_test\n",
    "    "
   ]
  },
  {
   "cell_type": "markdown",
   "metadata": {},
   "source": [
    "## Optimal Depth of tree using TF-IDF weighted Word2Vec"
   ]
  },
  {
   "cell_type": "code",
   "execution_count": 94,
   "metadata": {},
   "outputs": [
    {
     "name": "stdout",
     "output_type": "stream",
     "text": [
      "\n",
      "The optimal depth_size is 16.\n"
     ]
    },
    {
     "data": {
      "image/png": "[encoded data removed]",
      "text/plain": [
       "<Figure size 432x288 with 1 Axes>"
      ]
     },
     "metadata": {},
     "output_type": "display_data"
    },
    {
     "name": "stdout",
     "output_type": "stream",
     "text": [
      "the misclassification error for each depth value is :  [0.33419 0.30338 0.30471 0.29833 0.29962 0.29638 0.30548 0.30052 0.29705\n",
      " 0.29405 0.28995 0.28971 0.29    0.28714 0.2899  0.29195 0.29014 0.29033\n",
      " 0.29181 0.293   0.29162 0.29133]\n"
     ]
    }
   ],
   "source": [
    "Optimal_Depth_Tree1=Optimal_Depth_Tree(final_tfidf_w2v_np_train,Train_data)\n"
   ]
  },
  {
   "cell_type": "markdown",
   "metadata": {},
   "source": [
    "#### Decision Tree classifier for optimal depth"
   ]
  },
  {
   "cell_type": "code",
   "execution_count": 154,
   "metadata": {},
   "outputs": [],
   "source": [
    "DT_clf4 =DecisionTreeClassifier(criterion='gini',max_depth=optimal_depth,class_weight='balanced', random_state= 0)\n",
    "DT_clf4.fit(final_tfidf_w2v_np_train,Train_data)\n",
    "prediction4= DT_clf4.predict(final_tfidf_w2v_np_test)"
   ]
  },
  {
   "cell_type": "code",
   "execution_count": 155,
   "metadata": {},
   "outputs": [
    {
     "name": "stdout",
     "output_type": "stream",
     "text": [
      "training accuracy= 0.9603928571428572\n",
      "training error is = 0.03960714285714284\n"
     ]
    }
   ],
   "source": [
    "#Training accuracy and training error\n",
    "training_score=DT_clf4.score(final_tfidf_w2v_np_train,Train_data)\n",
    "print('training accuracy=',training_score)\n",
    "training_error=1-training_score\n",
    "print('training error is =',training_error)"
   ]
  },
  {
   "cell_type": "code",
   "execution_count": 156,
   "metadata": {},
   "outputs": [
    {
     "name": "stdout",
     "output_type": "stream",
     "text": [
      "Accuracy for Decision tree model with TF-IDF weighted Word2Vec is =  0.7025\n",
      "Testing error for decision Tree model withTF-IDF weighted Word2Vec is =  0.2975\n"
     ]
    }
   ],
   "source": [
    "# Testing Accuracy and testing error for knn model\n",
    "\n",
    "Testing_score=round(accuracy_score(Y_test_data ,prediction4),5)\n",
    "print(\"Accuracy for Decision tree model with TF-IDF weighted Word2Vec is = \",Testing_score)\n",
    "Testing_error=1-Testing_score\n",
    "print(\"Testing error for decision Tree model withTF-IDF weighted Word2Vec is = \",Testing_error)"
   ]
  },
  {
   "cell_type": "code",
   "execution_count": 157,
   "metadata": {},
   "outputs": [],
   "source": [
    "F1_score = round(f1_score(Y_test_data ,prediction4,average='macro'),5)*100\n",
    "recall = round(recall_score(Y_test_data,prediction4,average='macro'),5)*100\n",
    "precision = round(precision_score(Y_test_data ,prediction4,average='macro'),5)*100"
   ]
  },
  {
   "cell_type": "code",
   "execution_count": 158,
   "metadata": {},
   "outputs": [
    {
     "name": "stdout",
     "output_type": "stream",
     "text": [
      "             precision    recall  f1-score   support\n",
      "\n",
      "          0       0.54      0.58      0.56      3929\n",
      "          1       0.79      0.76      0.78      8071\n",
      "\n",
      "avg / total       0.71      0.70      0.70     12000\n",
      "\n"
     ]
    }
   ],
   "source": [
    "print(classification_report( Y_test_data,prediction4))"
   ]
  },
  {
   "cell_type": "code",
   "execution_count": 159,
   "metadata": {},
   "outputs": [
    {
     "data": {
      "image/png": "[encoded data removed]",
      "text/plain": [
       "<Figure size 432x288 with 2 Axes>"
      ]
     },
     "metadata": {},
     "output_type": "display_data"
    }
   ],
   "source": [
    "cm = confusion_matrix(Y_test_data ,prediction4)\n",
    "label = ['negative', 'positive']\n",
    "df_conf = pd.DataFrame(cm, index = label, columns = label)\n",
    "sns.heatmap(df_conf, annot = True, fmt = \"d\")\n",
    "plt.title(\"Confusiion Matrix\")\n",
    "plt.xlabel(\"Predicted Label\")\n",
    "plt.ylabel(\"True Label\")\n",
    "plt.show()"
   ]
  },
  {
   "cell_type": "code",
   "execution_count": 160,
   "metadata": {},
   "outputs": [],
   "source": [
    "models_performence1['Model'].append('Decision Tree')\n",
    "models_performence1['Vectorizer'].append('TF-IDF weighted word2vec')\n",
    "models_performence1['Optimal Depthsize'].append(optimal_depth)\n",
    "models_performence1['Training error'].append(training_error)\n",
    "models_performence1[ 'Test error'].append(Testing_error)\n",
    "models_performence1[ 'Accuracy'].append(Testing_score*100)\n",
    "models_performence1[ 'F1'].append(F1_score)\n",
    "models_performence1['recall'].append(recall)\n",
    "models_performence1[ 'precision'].append(precision)"
   ]
  },
  {
   "cell_type": "code",
   "execution_count": 161,
   "metadata": {},
   "outputs": [
    {
     "name": "stdout",
     "output_type": "stream",
     "text": [
      "|    Model    |       Vectorizer       |Optimal Depthsize|Training error|Test error|Accuracy| F1  |recall|precision|\n",
      "|-------------|------------------------|----------------:|-------------:|---------:|-------:|----:|-----:|--------:|\n",
      "|Decision Tree|BOW                     |               18|       0.01925|    0.3326|   66.74|61.86| 61.74|    61.99|\n",
      "|Decision Tree|Avg word2vec            |               10|       0.15796|    0.2728|   72.72|70.90| 72.77|    70.54|\n",
      "|Decision Tree|TF-IDF                  |               14|       0.07957|    0.3053|   69.47|66.17| 66.64|    65.89|\n",
      "|Decision Tree|TF-IDF weighted word2vec|               16|       0.03961|    0.2975|   70.25|66.73| 67.01|    66.52|\n",
      "\n"
     ]
    }
   ],
   "source": [
    "columns = [\"Model\",\"Vectorizer\", \"Optimal Depthsize\", \"Training error\",  \"Test error\",\n",
    "            \"Accuracy\",\"F1\",\"recall\",\"precision\",\n",
    "          ]\n",
    "df4=pd.DataFrame(models_performence1, columns=columns)\n",
    "result_display(df4)"
   ]
  },
  {
   "cell_type": "markdown",
   "metadata": {},
   "source": [
    "|    Model    |       Vectorizer       |Optimal Depthsize|Training error|Test error|Accuracy| F1  |recall|precision|\n",
    "|-------------|------------------------|----------------:|-------------:|---------:|-------:|----:|-----:|--------:|\n",
    "|Decision Tree|BOW                     |               18|       0.01925|    0.3326|   66.74|61.86| 61.74|    61.99|\n",
    "|Decision Tree|Avg word2vec            |               10|       0.15796|    0.2728|   72.72|70.90| 72.77|    70.54|\n",
    "|Decision Tree|TF-IDF                  |               14|       0.07957|    0.3053|   69.47|66.17| 66.64|    65.89|\n",
    "|Decision Tree|TF-IDF weighted word2vec|               16|       0.03961|    0.2975|   70.25|66.73| 67.01|    66.52|\n"
   ]
  },
  {
   "cell_type": "markdown",
   "metadata": {},
   "source": [
    "### Observations:\n",
    "* Though the dimesions od tf-idf weighted word2vec is low as comapred to BOW & TF_idf,results for  decision tree is poor as seen in table.\n",
    "* the optimal depth size is 16."
   ]
  },
  {
   "cell_type": "markdown",
   "metadata": {},
   "source": [
    "## Feature Importance for Decision Tree"
   ]
  },
  {
   "cell_type": "code",
   "execution_count": 106,
   "metadata": {},
   "outputs": [],
   "source": [
    "def top_feats(row, features, top_n=15):\n",
    "    topn_ids = np.argsort(row)[::-1][:top_n]\n",
    "    names = np.array(features)\n",
    "    print(names[topn_ids])\n",
    "    top_feats = [(features[i], row[i]) for i in topn_ids]\n",
    "    global df_feat\n",
    "    df_feat = pd.DataFrame(top_feats,names[topn_ids])\n",
    "    df_feat.columns = ['FEATURE', 'Feat_IMP_value']\n",
    "    \n",
    "    return df_feat"
   ]
  },
  {
   "cell_type": "markdown",
   "metadata": {},
   "source": [
    "#### Feature importance using count_vect"
   ]
  },
  {
   "cell_type": "code",
   "execution_count": 132,
   "metadata": {},
   "outputs": [],
   "source": [
    "# Decision Tree classifier for optimal depth using gini index\n",
    "DT_clf11 =DecisionTreeClassifier(criterion='gini',max_depth=18,class_weight='balanced',random_state= 0)\n",
    "data=count_vect.fit_transform(X_train_data.values.ravel())\n",
    "DT_clf11.fit(data ,Train_data)\n",
    "# Calculate feature importances\n",
    "count_vect_feature=count_vect.get_feature_names()\n",
    "feature_importance = DT_clf11.feature_importances_\n"
   ]
  },
  {
   "cell_type": "code",
   "execution_count": 133,
   "metadata": {},
   "outputs": [
    {
     "name": "stdout",
     "output_type": "stream",
     "text": [
      "['great' 'best' 'disappoint' 'love' 'delici' 'excel' 'good' 'favorit'\n",
      " 'bad' 'perfect' 'money' 'tast' 'nice' 'tasti' 'would']\n",
      "| FEATURE  |Feat_IMP_value|\n",
      "|----------|-------------:|\n",
      "|great     |       0.10429|\n",
      "|best      |       0.06659|\n",
      "|disappoint|       0.05747|\n",
      "|love      |       0.05009|\n",
      "|delici    |       0.03636|\n",
      "|excel     |       0.02647|\n",
      "|good      |       0.02389|\n",
      "|favorit   |       0.02266|\n",
      "|bad       |       0.02165|\n",
      "|perfect   |       0.01909|\n",
      "|money     |       0.01729|\n",
      "|tast      |       0.01323|\n",
      "|nice      |       0.01306|\n",
      "|tasti     |       0.01214|\n",
      "|would     |       0.01170|\n",
      "\n"
     ]
    }
   ],
   "source": [
    "top_feat = top_feats(feature_importance,count_vect_feature,15)\n",
    "result_display(top_feat)"
   ]
  },
  {
   "cell_type": "code",
   "execution_count": 134,
   "metadata": {},
   "outputs": [
    {
     "data": {
      "text/plain": [
       "Text(0,0.5,'Relative Feature Importance  ')"
      ]
     },
     "execution_count": 134,
     "metadata": {},
     "output_type": "execute_result"
    },
    {
     "data": {
      "image/png": "[encoded data removed]",
      "text/plain": [
       "<Figure size 432x288 with 1 Axes>"
      ]
     },
     "metadata": {},
     "output_type": "display_data"
    }
   ],
   "source": [
    "df_feat.plot.bar(y='Feat_IMP_value',title='Feature Importances', rot=90)\n",
    "plt.ylabel('Relative Feature Importance  ')"
   ]
  },
  {
   "cell_type": "markdown",
   "metadata": {},
   "source": [
    "#### Feature importance using tf-idf -vect"
   ]
  },
  {
   "cell_type": "code",
   "execution_count": 162,
   "metadata": {},
   "outputs": [],
   "source": [
    "model =DecisionTreeClassifier(criterion='gini',max_depth=14,class_weight='balanced',random_state= 0)\n",
    "final_tf_idf11 = tf_idf_vect.fit_transform(X_train_data.values.ravel())\n",
    "model.fit(final_tf_idf11 ,Train_data)\n",
    "tf_idf_feature=tf_idf_vect .get_feature_names()\n",
    "feature_importance1 = model.feature_importances_\n"
   ]
  },
  {
   "cell_type": "code",
   "execution_count": 163,
   "metadata": {},
   "outputs": [
    {
     "name": "stdout",
     "output_type": "stream",
     "text": [
      "['great' 'best' 'love' 'disappoint' 'delici' 'excel' 'perfect' 'good'\n",
      " 'favorit' 'high recommend' 'nice' 'money' 'tasti' 'easi' 'tast']\n",
      "|   FEATURE    |Feat_IMP_value|\n",
      "|--------------|-------------:|\n",
      "|great         |       0.13924|\n",
      "|best          |       0.08770|\n",
      "|love          |       0.06648|\n",
      "|disappoint    |       0.06602|\n",
      "|delici        |       0.05085|\n",
      "|excel         |       0.03439|\n",
      "|perfect       |       0.03339|\n",
      "|good          |       0.03134|\n",
      "|favorit       |       0.02762|\n",
      "|high recommend|       0.01984|\n",
      "|nice          |       0.01898|\n",
      "|money         |       0.01806|\n",
      "|tasti         |       0.01545|\n",
      "|easi          |       0.01347|\n",
      "|tast          |       0.01299|\n",
      "\n"
     ]
    }
   ],
   "source": [
    "# Relative Feature Importance  using tf_idf\n",
    "top_feat1 = top_feats(feature_importance1,tf_idf_feature,15)\n",
    "result_display(top_feat1)\n",
    "\n"
   ]
  },
  {
   "cell_type": "code",
   "execution_count": 165,
   "metadata": {},
   "outputs": [
    {
     "data": {
      "text/plain": [
       "Text(0,0.5,'Relative Feature Importance  ')"
      ]
     },
     "execution_count": 165,
     "metadata": {},
     "output_type": "execute_result"
    },
    {
     "data": {
      "image/png": "[encoded data removed]",
      "text/plain": [
       "<Figure size 432x288 with 1 Axes>"
      ]
     },
     "metadata": {},
     "output_type": "display_data"
    }
   ],
   "source": [
    "df_feat.plot.bar(y='Feat_IMP_value',title='Feature Importances', rot=90)\n",
    "plt.ylabel('Relative Feature Importance  ')"
   ]
  },
  {
   "cell_type": "markdown",
   "metadata": {},
   "source": [
    "\n",
    "|FEATURE_BOW|   Feat_IMP_value_BOW| FEATURE_TFIDF|   Feat_IMP_value_TFIDF|\n",
    "|----------|-------------:|----------|-------------:|\n",
    "|great     |       0.10429|great     |       0.13924|\n",
    "|best      |       0.06659|best      |       0.08770|\n",
    "|disappoint|       0.05747|love      |       0.06648|\n",
    "|love      |       0.05009|disappoint|       0.06602|\n",
    "|delici    |       0.03636|delici    |       0.05085|\n",
    "|excel     |       0.02647|excel     |       0.03439|\n",
    "|good      |       0.02389|perfect   |       0.03339|\n",
    "|favorit   |       0.02266|good      |       0.03134|\n",
    "|bad       |       0.02165|favorit   |       0.02762|\n",
    "|perfect   |       0.01909|highrecomm|       0.01984|\n",
    "|money     |       0.01729|nice      |       0.01898|\n",
    "|tast      |       0.01323|money     |       0.01806|\n",
    "|nice      |       0.01306|tasti     |       0.01545|\n",
    "|tasti     |       0.01214|easi      |       0.01347|\n",
    "|would     |       0.01170|tast      |       0.01299|"
   ]
  },
  {
   "cell_type": "markdown",
   "metadata": {},
   "source": [
    "# Decision Tree Image with all vectorization method"
   ]
  },
  {
   "cell_type": "markdown",
   "metadata": {},
   "source": [
    "####  Decision Tree Classifier\n",
    " * DT_clf1 using BOW\n",
    " * DT_clf2 using Avg word2vec\n",
    " * DT_clf3 Using TF-IDF\n",
    " * DT_clf4 using TF-IDF weighted word2vec"
   ]
  },
  {
   "cell_type": "code",
   "execution_count": 166,
   "metadata": {},
   "outputs": [],
   "source": [
    "Classifier=[DT_clf1,DT_clf2,DT_clf3,DT_clf4]"
   ]
  },
  {
   "cell_type": "markdown",
   "metadata": {},
   "source": [
    "#### Features_name\n",
    "\n",
    "* features using BOW for Decision tree image using BOW & Avg word2vec:\n",
    "\n",
    "    1. feature_importance\n",
    "    \n",
    "* Features using Tf-IDF for Decision tree image using TF-Idf & TF-IDF weighted word2vec: \n",
    "   \n",
    "       2.tf_idf_feature "
   ]
  },
  {
   "cell_type": "code",
   "execution_count": 167,
   "metadata": {},
   "outputs": [],
   "source": [
    "features=tf_idf_feature[:100]"
   ]
  },
  {
   "cell_type": "markdown",
   "metadata": {},
   "source": [
    "#### name_png_format:\n",
    "    1. BOW_Decision_Tree.png\n",
    "    2. Avg word2vec.png\n",
    "    3. TF-IDF.png\n",
    "    4. TF-IDF weighted word2vec.png"
   ]
  },
  {
   "cell_type": "code",
   "execution_count": 168,
   "metadata": {},
   "outputs": [],
   "source": [
    "name_png_format=['BOW_Decision_Tree.png','Avg word2vec.png','TF-IDF.png','TF-IDF weighted word2vec.png']"
   ]
  },
  {
   "cell_type": "code",
   "execution_count": 169,
   "metadata": {},
   "outputs": [
    {
     "name": "stderr",
     "output_type": "stream",
     "text": [
      "100%|██████████| 4/4 [03:17<00:00, 49.39s/it]\n"
     ]
    }
   ],
   "source": [
    "\n",
    "for i in tqdm(range(4)):\n",
    "    \n",
    "    decision_tree_image(Classifier[i],features,name_png_format[i])"
   ]
  },
  {
   "cell_type": "markdown",
   "metadata": {},
   "source": [
    "## Observation:\n"
   ]
  },
  {
   "cell_type": "markdown",
   "metadata": {},
   "source": [
    "|    Model    |       Vectorizer       |Optimal Depthsize|Training error|Test error|Accuracy| F1  |recall|precision|\n",
    "|-------------|------------------------|----------------:|-------------:|---------:|-------:|----:|-----:|--------:|\n",
    "|Decision Tree|BOW                     |               18|       0.01925|    0.3326|   66.74|61.86| 61.74|    61.99|\n",
    "|Decision Tree|Avg word2vec            |               10|       0.15796|    0.2728|   72.72|70.90| 72.77|    70.54|\n",
    "|Decision Tree|TF-IDF                  |               14|       0.07957|    0.3053|   69.47|66.17| 66.64|    65.89|\n",
    "|Decision Tree|TF-IDF weighted word2vec|               16|       0.03961|    0.2975|   70.25|66.73| 67.01|    66.52|"
   ]
  },
  {
   "cell_type": "markdown",
   "metadata": {},
   "source": [
    "* The results obtained after training and testing the amazon reviews datasets for Avg word2vecis best compared to other techniques.\n",
    "\n",
    "* The Depth_size for BOW and TF-IDF is quite high (nearby max_size) ,it means model undergoes overfitting.\n",
    "\n",
    "* The Depth_size for Tf-IDF weighted word2vec is too low,it means model undergoes underfitting\n",
    "\n",
    "* Decision tree images with all feature geneation techniques is generated. And we can  visually the decision tree.\n",
    "* Feature importance using BOW and TF_IDF is shown as above.\n",
    "\n",
    "* Decision Tree Model on amazon reviews datasets is classiefied all points as postive reviews.\n",
    "\n",
    "* Here, decision tree on Amazon reviews datasets gives poor result as seen in above table.\n"
   ]
  },
  {
   "cell_type": "code",
   "execution_count": null,
   "metadata": {},
   "outputs": [],
   "source": []
  },
  {
   "cell_type": "code",
   "execution_count": null,
   "metadata": {},
   "outputs": [],
   "source": []
  }
 ],
 "metadata": {
  "kernelspec": {
   "display_name": "Python 3",
   "language": "python",
   "name": "python3"
  },
  "language_info": {
   "codemirror_mode": {
    "name": "ipython",
    "version": 3
   },
   "file_extension": ".py",
   "mimetype": "text/x-python",
   "name": "python",
   "nbconvert_exporter": "python",
   "pygments_lexer": "ipython3",
   "version": "3.6.5"
  }
 },
 "nbformat": 4,
 "nbformat_minor": 2
}
